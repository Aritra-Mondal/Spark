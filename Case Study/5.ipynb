{
 "cells": [
  {
   "cell_type": "markdown",
   "source": [
    "## Importing Libraries"
   ],
   "metadata": {
    "collapsed": false
   }
  },
  {
   "cell_type": "code",
   "execution_count": 1,
   "metadata": {
    "collapsed": true
   },
   "outputs": [],
   "source": [
    "from pyspark import SparkContext\n",
    "from pyspark.sql import SQLContext"
   ]
  },
  {
   "cell_type": "markdown",
   "source": [
    "#### Start Spark SQL"
   ],
   "metadata": {
    "collapsed": false
   }
  },
  {
   "cell_type": "code",
   "execution_count": 2,
   "outputs": [],
   "source": [
    "sc = SparkContext(master=\"local[*]\",appName=\"topmovies\")\n",
    "sql = SQLContext(sc)"
   ],
   "metadata": {
    "collapsed": false,
    "pycharm": {
     "name": "#%%\n"
    }
   }
  },
  {
   "cell_type": "markdown",
   "source": [
    "#### Loading Data"
   ],
   "metadata": {
    "collapsed": false
   }
  },
  {
   "cell_type": "code",
   "execution_count": 3,
   "outputs": [],
   "source": [
    "movies = sql.read.csv(\"./data/movies.csv\",inferSchema=True,header=True)\n",
    "ratings = sql.read.csv(\"./data/ratings.csv\", inferSchema=True, header=True)"
   ],
   "metadata": {
    "collapsed": false,
    "pycharm": {
     "name": "#%%\n"
    }
   }
  },
  {
   "cell_type": "code",
   "execution_count": 4,
   "outputs": [],
   "source": [
    "movies.createOrReplaceTempView(\"movies\")"
   ],
   "metadata": {
    "collapsed": false,
    "pycharm": {
     "name": "#%%\n"
    }
   }
  },
  {
   "cell_type": "code",
   "execution_count": 5,
   "outputs": [],
   "source": [
    "ratings.createOrReplaceTempView(\"ratings\")"
   ],
   "metadata": {
    "collapsed": false,
    "pycharm": {
     "name": "#%%\n"
    }
   }
  },
  {
   "cell_type": "code",
   "execution_count": 6,
   "outputs": [
    {
     "name": "stdout",
     "output_type": "stream",
     "text": [
      "root\n",
      " |-- userId: integer (nullable = true)\n",
      " |-- movieId: integer (nullable = true)\n",
      " |-- rating: double (nullable = true)\n",
      " |-- timestamp: integer (nullable = true)\n",
      "\n"
     ]
    }
   ],
   "source": [
    "ratings.printSchema()"
   ],
   "metadata": {
    "collapsed": false,
    "pycharm": {
     "name": "#%%\n"
    }
   }
  },
  {
   "cell_type": "code",
   "execution_count": 7,
   "outputs": [
    {
     "name": "stdout",
     "output_type": "stream",
     "text": [
      "root\n",
      " |-- movieId: integer (nullable = true)\n",
      " |-- title: string (nullable = true)\n",
      " |-- genres: string (nullable = true)\n",
      "\n"
     ]
    }
   ],
   "source": [
    "movies.printSchema()"
   ],
   "metadata": {
    "collapsed": false,
    "pycharm": {
     "name": "#%%\n"
    }
   }
  },
  {
   "cell_type": "code",
   "execution_count": 9,
   "outputs": [
    {
     "name": "stdout",
     "output_type": "stream",
     "text": [
      "+-------+--------------------+--------------------+\n",
      "|movieId|               title|              genres|\n",
      "+-------+--------------------+--------------------+\n",
      "|      1|    Toy Story (1995)|Adventure|Animati...|\n",
      "|      2|      Jumanji (1995)|Adventure|Childre...|\n",
      "|      3|Grumpier Old Men ...|      Comedy|Romance|\n",
      "|      4|Waiting to Exhale...|Comedy|Drama|Romance|\n",
      "|      5|Father of the Bri...|              Comedy|\n",
      "|      6|         Heat (1995)|Action|Crime|Thri...|\n",
      "|      7|      Sabrina (1995)|      Comedy|Romance|\n",
      "|      8| Tom and Huck (1995)|  Adventure|Children|\n",
      "|      9| Sudden Death (1995)|              Action|\n",
      "|     10|    GoldenEye (1995)|Action|Adventure|...|\n",
      "|     11|American Presiden...|Comedy|Drama|Romance|\n",
      "|     12|Dracula: Dead and...|       Comedy|Horror|\n",
      "|     13|        Balto (1995)|Adventure|Animati...|\n",
      "|     14|        Nixon (1995)|               Drama|\n",
      "|     15|Cutthroat Island ...|Action|Adventure|...|\n",
      "|     16|       Casino (1995)|         Crime|Drama|\n",
      "|     17|Sense and Sensibi...|       Drama|Romance|\n",
      "|     18|   Four Rooms (1995)|              Comedy|\n",
      "|     19|Ace Ventura: When...|              Comedy|\n",
      "|     20|  Money Train (1995)|Action|Comedy|Cri...|\n",
      "+-------+--------------------+--------------------+\n",
      "only showing top 20 rows\n",
      "\n"
     ]
    }
   ],
   "source": [
    "sql.sql(\"SELECT * FROM movies\").show()"
   ],
   "metadata": {
    "collapsed": false,
    "pycharm": {
     "name": "#%%\n"
    }
   }
  },
  {
   "cell_type": "code",
   "execution_count": 10,
   "outputs": [
    {
     "name": "stdout",
     "output_type": "stream",
     "text": [
      "+------+-------+------+----------+\n",
      "|userId|movieId|rating| timestamp|\n",
      "+------+-------+------+----------+\n",
      "|     1|     31|   2.5|1260759144|\n",
      "|     1|   1029|   3.0|1260759179|\n",
      "|     1|   1061|   3.0|1260759182|\n",
      "|     1|   1129|   2.0|1260759185|\n",
      "|     1|   1172|   4.0|1260759205|\n",
      "|     1|   1263|   2.0|1260759151|\n",
      "|     1|   1287|   2.0|1260759187|\n",
      "|     1|   1293|   2.0|1260759148|\n",
      "|     1|   1339|   3.5|1260759125|\n",
      "|     1|   1343|   2.0|1260759131|\n",
      "|     1|   1371|   2.5|1260759135|\n",
      "|     1|   1405|   1.0|1260759203|\n",
      "|     1|   1953|   4.0|1260759191|\n",
      "|     1|   2105|   4.0|1260759139|\n",
      "|     1|   2150|   3.0|1260759194|\n",
      "|     1|   2193|   2.0|1260759198|\n",
      "|     1|   2294|   2.0|1260759108|\n",
      "|     1|   2455|   2.5|1260759113|\n",
      "|     1|   2968|   1.0|1260759200|\n",
      "|     1|   3671|   3.0|1260759117|\n",
      "+------+-------+------+----------+\n",
      "only showing top 20 rows\n",
      "\n"
     ]
    }
   ],
   "source": [
    "sql.sql(\"SELECT * FROM ratings\").show()"
   ],
   "metadata": {
    "collapsed": false,
    "pycharm": {
     "name": "#%%\n"
    }
   }
  },
  {
   "cell_type": "markdown",
   "source": [
    "# Filter Movies That Received at least 10 user reviews"
   ],
   "metadata": {
    "collapsed": false
   }
  },
  {
   "cell_type": "code",
   "execution_count": 18,
   "outputs": [],
   "source": [
    "reviewCounts = sql.sql(\"SELECT movieId, count(*) AS review_counts  FROM ratings GROUP BY movieId\")"
   ],
   "metadata": {
    "collapsed": false,
    "pycharm": {
     "name": "#%%\n"
    }
   }
  },
  {
   "cell_type": "code",
   "execution_count": 19,
   "outputs": [
    {
     "name": "stdout",
     "output_type": "stream",
     "text": [
      "+-------+-------------+\n",
      "|movieId|review_counts|\n",
      "+-------+-------------+\n",
      "|   1580|          190|\n",
      "|   2659|            3|\n",
      "|   3794|            5|\n",
      "|   3175|           65|\n",
      "|    471|           49|\n",
      "|   1088|           53|\n",
      "|   1342|           17|\n",
      "|   1645|           60|\n",
      "|   2366|           23|\n",
      "|   6620|           17|\n",
      "|   8638|           17|\n",
      "|  96488|            4|\n",
      "| 160563|            2|\n",
      "|   7982|            3|\n",
      "|   1238|           17|\n",
      "|   1959|           30|\n",
      "|    463|            7|\n",
      "|   2122|           11|\n",
      "|   1591|           15|\n",
      "|   5518|            1|\n",
      "+-------+-------------+\n",
      "only showing top 20 rows\n",
      "\n"
     ]
    }
   ],
   "source": [
    "reviewCounts.show()"
   ],
   "metadata": {
    "collapsed": false,
    "pycharm": {
     "name": "#%%\n"
    }
   }
  },
  {
   "cell_type": "code",
   "execution_count": 21,
   "outputs": [],
   "source": [
    "reviewCounts.createOrReplaceTempView(\"reviewCounts\")\n",
    "reviewCountsGRE10 = sql.sql(\"SELECT * FROM reviewCounts WHERE review_counts >= 10\")"
   ],
   "metadata": {
    "collapsed": false,
    "pycharm": {
     "name": "#%%\n"
    }
   }
  },
  {
   "cell_type": "code",
   "execution_count": 22,
   "outputs": [
    {
     "name": "stdout",
     "output_type": "stream",
     "text": [
      "+-------+-------------+\n",
      "|movieId|review_counts|\n",
      "+-------+-------------+\n",
      "|   1580|          190|\n",
      "|   3175|           65|\n",
      "|    471|           49|\n",
      "|   1088|           53|\n",
      "|   1342|           17|\n",
      "|   1645|           60|\n",
      "|   2366|           23|\n",
      "|   6620|           17|\n",
      "|   8638|           17|\n",
      "|   1238|           17|\n",
      "|   1959|           30|\n",
      "|   2122|           11|\n",
      "|   1591|           15|\n",
      "|  44022|           20|\n",
      "|   2142|           12|\n",
      "|   2866|           10|\n",
      "|  68135|           11|\n",
      "|   3997|           10|\n",
      "|   1721|          164|\n",
      "|    858|          200|\n",
      "+-------+-------------+\n",
      "only showing top 20 rows\n",
      "\n"
     ]
    }
   ],
   "source": [
    "reviewCountsGRE10.show()"
   ],
   "metadata": {
    "collapsed": false,
    "pycharm": {
     "name": "#%%\n"
    }
   }
  },
  {
   "cell_type": "code",
   "execution_count": 23,
   "outputs": [
    {
     "data": {
      "text/plain": "2245"
     },
     "execution_count": 23,
     "metadata": {},
     "output_type": "execute_result"
    }
   ],
   "source": [
    "reviewCountsGRE10.count()"
   ],
   "metadata": {
    "collapsed": false,
    "pycharm": {
     "name": "#%%\n"
    }
   }
  },
  {
   "cell_type": "code",
   "execution_count": 24,
   "outputs": [],
   "source": [
    "reviewCountsGRE10.createOrReplaceTempView(\"reviewCountsGRE10\")"
   ],
   "metadata": {
    "collapsed": false,
    "pycharm": {
     "name": "#%%\n"
    }
   }
  },
  {
   "cell_type": "markdown",
   "source": [
    "### Join reviewCountsGRE10 with ratings data"
   ],
   "metadata": {
    "collapsed": false
   }
  },
  {
   "cell_type": "code",
   "execution_count": 27,
   "outputs": [],
   "source": [
    "df = sql.sql(\"SELECT r1.movieId, r1.review_counts, r2.userId, r2.rating FROM reviewCountsGRE10 r1 JOIN ratings r2 USING(movieId)\")"
   ],
   "metadata": {
    "collapsed": false,
    "pycharm": {
     "name": "#%%\n"
    }
   }
  },
  {
   "cell_type": "code",
   "execution_count": 28,
   "outputs": [
    {
     "name": "stdout",
     "output_type": "stream",
     "text": [
      "+-------+-------------+------+------+\n",
      "|movieId|review_counts|userId|rating|\n",
      "+-------+-------------+------+------+\n",
      "|     31|           42|     1|   2.5|\n",
      "|   1029|           42|     1|   3.0|\n",
      "|   1061|           33|     1|   3.0|\n",
      "|   1129|           48|     1|   2.0|\n",
      "|   1172|           46|     1|   4.0|\n",
      "|   1263|           48|     1|   2.0|\n",
      "|   1287|           46|     1|   2.0|\n",
      "|   1293|           46|     1|   2.0|\n",
      "|   1339|           52|     1|   3.5|\n",
      "|   1343|           39|     1|   2.0|\n",
      "|   1371|           47|     1|   2.5|\n",
      "|   1405|           46|     1|   1.0|\n",
      "|   1953|           46|     1|   4.0|\n",
      "|   2105|           47|     1|   4.0|\n",
      "|   2150|           36|     1|   3.0|\n",
      "|   2193|           42|     1|   2.0|\n",
      "|   2294|           53|     1|   2.0|\n",
      "|   2455|           47|     1|   2.5|\n",
      "|   2968|           43|     1|   1.0|\n",
      "|   3671|           62|     1|   3.0|\n",
      "+-------+-------------+------+------+\n",
      "only showing top 20 rows\n",
      "\n"
     ]
    }
   ],
   "source": [
    "df.show()"
   ],
   "metadata": {
    "collapsed": false,
    "pycharm": {
     "name": "#%%\n"
    }
   }
  },
  {
   "cell_type": "code",
   "execution_count": 29,
   "outputs": [
    {
     "data": {
      "text/plain": "81915"
     },
     "execution_count": 29,
     "metadata": {},
     "output_type": "execute_result"
    }
   ],
   "source": [
    "df.count()"
   ],
   "metadata": {
    "collapsed": false,
    "pycharm": {
     "name": "#%%\n"
    }
   }
  },
  {
   "cell_type": "code",
   "execution_count": 30,
   "outputs": [],
   "source": [
    "df.createOrReplaceTempView(\"df\")"
   ],
   "metadata": {
    "collapsed": false,
    "pycharm": {
     "name": "#%%\n"
    }
   }
  },
  {
   "cell_type": "markdown",
   "source": [
    "## TOP 20 movies with highest average ratings"
   ],
   "metadata": {
    "collapsed": false
   }
  },
  {
   "cell_type": "code",
   "execution_count": 38,
   "outputs": [],
   "source": [
    "avgRatings = sql.sql(\"SELECT movieId, AVG(rating) AS AvgRating ,AVG(review_counts) AS review_counts FROM df GROUP BY movieId ORDER BY AvgRating DESC LIMIT 20\")"
   ],
   "metadata": {
    "collapsed": false,
    "pycharm": {
     "name": "#%%\n"
    }
   }
  },
  {
   "cell_type": "code",
   "execution_count": 39,
   "outputs": [
    {
     "name": "stdout",
     "output_type": "stream",
     "text": [
      "+-------+-----------------+-------------+\n",
      "|movieId|        AvgRating|review_counts|\n",
      "+-------+-----------------+-------------+\n",
      "|   1939|4.636363636363637|         11.0|\n",
      "|   3469|4.541666666666667|         12.0|\n",
      "|    858|           4.4875|        200.0|\n",
      "|    318|4.487138263665595|        311.0|\n",
      "|   1948|4.458333333333333|         12.0|\n",
      "|   8132|4.454545454545454|         11.0|\n",
      "|   1945|4.448275862068965|         29.0|\n",
      "|   1147|           4.4375|         16.0|\n",
      "|    926|4.434210526315789|         38.0|\n",
      "|   1217|4.423076923076923|         26.0|\n",
      "|    969|             4.42|         50.0|\n",
      "|   3035|4.411764705882353|         17.0|\n",
      "|   1066|4.409090909090909|         11.0|\n",
      "|   2203|              4.4|         10.0|\n",
      "|   2064|4.392857142857143|         42.0|\n",
      "|    913|4.387096774193548|         62.0|\n",
      "|   7502|4.386363636363637|         22.0|\n",
      "|   1221|4.385185185185185|        135.0|\n",
      "|    905|             4.38|         25.0|\n",
      "|     50|4.370646766169155|        201.0|\n",
      "+-------+-----------------+-------------+\n",
      "\n"
     ]
    }
   ],
   "source": [
    "avgRatings.show()"
   ],
   "metadata": {
    "collapsed": false,
    "pycharm": {
     "name": "#%%\n"
    }
   }
  },
  {
   "cell_type": "code",
   "execution_count": 40,
   "outputs": [],
   "source": [
    "avgRatings.createOrReplaceTempView(\"avgRatings\")"
   ],
   "metadata": {
    "collapsed": false,
    "pycharm": {
     "name": "#%%\n"
    }
   }
  },
  {
   "cell_type": "markdown",
   "source": [
    "## Finding top20 movies"
   ],
   "metadata": {
    "collapsed": false
   }
  },
  {
   "cell_type": "markdown",
   "source": [],
   "metadata": {
    "collapsed": false
   }
  },
  {
   "cell_type": "code",
   "execution_count": 52,
   "outputs": [],
   "source": [
    "result = sql.sql(\"SELECT a.movieId, m.title AS `Movie Name` , CAST(a.AvgRating AS DECIMAL(5, 2) )AS `Average Rating`,a.review_counts AS `Total number of ratings` FROM avgRatings a JOIN movies m USING(movieId) ORDER BY `Average Rating`, `Total number of ratings` DESC\")"
   ],
   "metadata": {
    "collapsed": false,
    "pycharm": {
     "name": "#%%\n"
    }
   }
  },
  {
   "cell_type": "code",
   "execution_count": 53,
   "outputs": [
    {
     "name": "stdout",
     "output_type": "stream",
     "text": [
      "+-------+-----------------------------------+--------------+-----------------------+\n",
      "|movieId|Movie Name                         |Average Rating|Total number of ratings|\n",
      "+-------+-----------------------------------+--------------+-----------------------+\n",
      "|50     |Usual Suspects, The (1995)         |4.37          |201.0                  |\n",
      "|905    |It Happened One Night (1934)       |4.38          |25.0                   |\n",
      "|1221   |Godfather: Part II, The (1974)     |4.39          |135.0                  |\n",
      "|913    |Maltese Falcon, The (1941)         |4.39          |62.0                   |\n",
      "|2064   |Roger & Me (1989)                  |4.39          |42.0                   |\n",
      "|7502   |Band of Brothers (2001)            |4.39          |22.0                   |\n",
      "|2203   |Shadow of a Doubt (1943)           |4.40          |10.0                   |\n",
      "|3035   |Mister Roberts (1955)              |4.41          |17.0                   |\n",
      "|1066   |Shall We Dance (1937)              |4.41          |11.0                   |\n",
      "|969    |African Queen, The (1951)          |4.42          |50.0                   |\n",
      "|1217   |Ran (1985)                         |4.42          |26.0                   |\n",
      "|926    |All About Eve (1950)               |4.43          |38.0                   |\n",
      "|1147   |When We Were Kings (1996)          |4.44          |16.0                   |\n",
      "|1945   |On the Waterfront (1954)           |4.45          |29.0                   |\n",
      "|8132   |Gladiator (1992)                   |4.45          |11.0                   |\n",
      "|1948   |Tom Jones (1963)                   |4.46          |12.0                   |\n",
      "|318    |Shawshank Redemption, The (1994)   |4.49          |311.0                  |\n",
      "|858    |Godfather, The (1972)              |4.49          |200.0                  |\n",
      "|3469   |Inherit the Wind (1960)            |4.54          |12.0                   |\n",
      "|1939   |Best Years of Our Lives, The (1946)|4.64          |11.0                   |\n",
      "+-------+-----------------------------------+--------------+-----------------------+\n",
      "\n"
     ]
    }
   ],
   "source": [
    "result.show(truncate=False)"
   ],
   "metadata": {
    "collapsed": false,
    "pycharm": {
     "name": "#%%\n"
    }
   }
  },
  {
   "cell_type": "code",
   "execution_count": 54,
   "outputs": [],
   "source": [
    "sc.stop()"
   ],
   "metadata": {
    "collapsed": false,
    "pycharm": {
     "name": "#%%\n"
    }
   }
  },
  {
   "cell_type": "code",
   "execution_count": null,
   "outputs": [],
   "source": [],
   "metadata": {
    "collapsed": false,
    "pycharm": {
     "name": "#%%\n"
    }
   }
  }
 ],
 "metadata": {
  "kernelspec": {
   "display_name": "Python 3",
   "language": "python",
   "name": "python3"
  },
  "language_info": {
   "codemirror_mode": {
    "name": "ipython",
    "version": 2
   },
   "file_extension": ".py",
   "mimetype": "text/x-python",
   "name": "python",
   "nbconvert_exporter": "python",
   "pygments_lexer": "ipython2",
   "version": "2.7.6"
  }
 },
 "nbformat": 4,
 "nbformat_minor": 0
}