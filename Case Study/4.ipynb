{
 "cells": [
  {
   "cell_type": "markdown",
   "source": [
    "#### Importing Libraries"
   ],
   "metadata": {
    "collapsed": false
   }
  },
  {
   "cell_type": "code",
   "execution_count": 13,
   "metadata": {
    "collapsed": true
   },
   "outputs": [],
   "source": [
    "from pyspark.sql import SparkSession\n",
    "from pyspark.sql.functions import format_number"
   ]
  },
  {
   "cell_type": "markdown",
   "source": [
    "#### Starting Spark Session"
   ],
   "metadata": {
    "collapsed": false
   }
  },
  {
   "cell_type": "code",
   "execution_count": 2,
   "outputs": [],
   "source": [
    "spark = SparkSession.builder.appName(\"avg_wights_of_American_cars\").master('local[*]').getOrCreate()"
   ],
   "metadata": {
    "collapsed": false,
    "pycharm": {
     "name": "#%%\n"
    }
   }
  },
  {
   "cell_type": "code",
   "execution_count": 3,
   "outputs": [],
   "source": [
    "data = spark.read.csv(\"./data/cars.tsv\", sep='\\t', inferSchema=True, header=True)"
   ],
   "metadata": {
    "collapsed": false,
    "pycharm": {
     "name": "#%%\n"
    }
   }
  },
  {
   "cell_type": "code",
   "execution_count": 4,
   "outputs": [
    {
     "name": "stdout",
     "output_type": "stream",
     "text": [
      "+---------+--------------------+---+---------+-----------+----------+------+----------+----+--------+\n",
      "|     make|               Model|MPG|Cylinders|Engine Disp|Horsepower|Weight|Accelerate|Year|  Origin|\n",
      "+---------+--------------------+---+---------+-----------+----------+------+----------+----+--------+\n",
      "|      amc|  amc ambassador dpl| 15|        8|        390|       190|  3850|       8.5|  70|American|\n",
      "|      amc|         amc gremlin| 21|        6|        199|        90|  2648|      15.0|  70|American|\n",
      "|      amc|          amc hornet| 18|        6|        199|        97|  2774|      15.5|  70|American|\n",
      "|      amc|       amc rebel sst| 16|        8|        304|       150|  3433|      12.0|  70|American|\n",
      "|    buick|buick estate wago...| 14|        8|        455|       225|  3086|      10.0|  70|American|\n",
      "|    buick|   buick skylark 320| 15|        8|        350|       165|  3693|      11.5|  70|American|\n",
      "|chevrolet|chevrolet chevell...| 18|        8|        307|       130|  3504|      12.0|  70|American|\n",
      "|chevrolet|    chevrolet impala| 14|        8|        454|       220|  4354|       9.0|  70|American|\n",
      "|chevrolet|chevrolet monte c...| 15|        8|        400|       150|  3761|       9.5|  70|American|\n",
      "|    chevy|           chevy c20| 10|        8|        307|       200|  4376|      15.0|  70|American|\n",
      "|    dodge| dodge challenger se| 15|        8|        383|       170|  3563|      10.0|  70|American|\n",
      "|    dodge|          dodge d200| 11|        8|        318|       210|  4382|      13.5|  70|American|\n",
      "|     ford|           ford f250| 10|        8|        360|       215|  4615|      14.0|  70|American|\n",
      "|     ford|    ford galaxie 500| 15|        8|        429|       198|  4341|      10.0|  70|American|\n",
      "|     ford|       ford maverick| 21|        6|        200|        85|  2587|      16.0|  70|American|\n",
      "|     ford|         ford torino| 17|        8|        302|       140|  3449|      10.5|  70|American|\n",
      "|       hi|            hi 1200d|  9|        8|        304|       193|  4732|      18.5|  70|American|\n",
      "| plymouth|  plymouth 'cuda 340| 14|        8|        340|       160|  3609|       8.0|  70|American|\n",
      "| plymouth|     plymouth duster| 22|        6|        198|        95|  2833|      15.5|  70|American|\n",
      "| plymouth|   plymouth fury iii| 14|        8|        440|       215|  4312|       8.5|  70|American|\n",
      "+---------+--------------------+---+---------+-----------+----------+------+----------+----+--------+\n",
      "only showing top 20 rows\n",
      "\n"
     ]
    }
   ],
   "source": [
    "data.show()"
   ],
   "metadata": {
    "collapsed": false,
    "pycharm": {
     "name": "#%%\n"
    }
   }
  },
  {
   "cell_type": "markdown",
   "source": [
    "#### Filtering only American Cars"
   ],
   "metadata": {
    "collapsed": false
   }
  },
  {
   "cell_type": "code",
   "execution_count": 8,
   "outputs": [],
   "source": [
    "american_cars = data.filter(data.Origin == \"American\")"
   ],
   "metadata": {
    "collapsed": false,
    "pycharm": {
     "name": "#%%\n"
    }
   }
  },
  {
   "cell_type": "code",
   "execution_count": 23,
   "outputs": [
    {
     "name": "stdout",
     "output_type": "stream",
     "text": [
      "+---------+-------------------------+---+---------+-----------+----------+------+----------+----+--------+\n",
      "|make     |Model                    |MPG|Cylinders|Engine Disp|Horsepower|Weight|Accelerate|Year|Origin  |\n",
      "+---------+-------------------------+---+---------+-----------+----------+------+----------+----+--------+\n",
      "|amc      |amc ambassador dpl       |15 |8        |390        |190       |3850  |8.5       |70  |American|\n",
      "|amc      |amc gremlin              |21 |6        |199        |90        |2648  |15.0      |70  |American|\n",
      "|amc      |amc hornet               |18 |6        |199        |97        |2774  |15.5      |70  |American|\n",
      "|amc      |amc rebel sst            |16 |8        |304        |150       |3433  |12.0      |70  |American|\n",
      "|buick    |buick estate wagon (sw)  |14 |8        |455        |225       |3086  |10.0      |70  |American|\n",
      "|buick    |buick skylark 320        |15 |8        |350        |165       |3693  |11.5      |70  |American|\n",
      "|chevrolet|chevrolet chevelle malibu|18 |8        |307        |130       |3504  |12.0      |70  |American|\n",
      "|chevrolet|chevrolet impala         |14 |8        |454        |220       |4354  |9.0       |70  |American|\n",
      "|chevrolet|chevrolet monte carlo    |15 |8        |400        |150       |3761  |9.5       |70  |American|\n",
      "|chevy    |chevy c20                |10 |8        |307        |200       |4376  |15.0      |70  |American|\n",
      "|dodge    |dodge challenger se      |15 |8        |383        |170       |3563  |10.0      |70  |American|\n",
      "|dodge    |dodge d200               |11 |8        |318        |210       |4382  |13.5      |70  |American|\n",
      "|ford     |ford f250                |10 |8        |360        |215       |4615  |14.0      |70  |American|\n",
      "|ford     |ford galaxie 500         |15 |8        |429        |198       |4341  |10.0      |70  |American|\n",
      "|ford     |ford maverick            |21 |6        |200        |85        |2587  |16.0      |70  |American|\n",
      "|ford     |ford torino              |17 |8        |302        |140       |3449  |10.5      |70  |American|\n",
      "|hi       |hi 1200d                 |9  |8        |304        |193       |4732  |18.5      |70  |American|\n",
      "|plymouth |plymouth 'cuda 340       |14 |8        |340        |160       |3609  |8.0       |70  |American|\n",
      "|plymouth |plymouth duster          |22 |6        |198        |95        |2833  |15.5      |70  |American|\n",
      "|plymouth |plymouth fury iii        |14 |8        |440        |215       |4312  |8.5       |70  |American|\n",
      "+---------+-------------------------+---+---------+-----------+----------+------+----------+----+--------+\n",
      "only showing top 20 rows\n",
      "\n"
     ]
    }
   ],
   "source": [
    "american_cars.show(truncate=False)"
   ],
   "metadata": {
    "collapsed": false,
    "pycharm": {
     "name": "#%%\n"
    }
   }
  },
  {
   "cell_type": "markdown",
   "source": [
    "#### Average weight of each brands"
   ],
   "metadata": {
    "collapsed": false
   }
  },
  {
   "cell_type": "code",
   "execution_count": 20,
   "outputs": [],
   "source": [
    "avg_weight_by_brand = american_cars.groupBy(\"make\").avg(\"Weight\")"
   ],
   "metadata": {
    "collapsed": false,
    "pycharm": {
     "name": "#%%\n"
    }
   }
  },
  {
   "cell_type": "code",
   "execution_count": 21,
   "outputs": [],
   "source": [
    "avg_weight_by_brand = avg_weight_by_brand.select(avg_weight_by_brand[\"make\"],\n",
    "                           format_number(avg_weight_by_brand[\"avg(Weight)\"].cast('int'),0).alias(\"Average Weight\")\n",
    "                           )"
   ],
   "metadata": {
    "collapsed": false,
    "pycharm": {
     "name": "#%%\n"
    }
   }
  },
  {
   "cell_type": "code",
   "execution_count": 22,
   "outputs": [
    {
     "name": "stdout",
     "output_type": "stream",
     "text": [
      "+---------+--------------+\n",
      "|     make|Average Weight|\n",
      "+---------+--------------+\n",
      "|    buick|         3,760|\n",
      "|  pontiac|         4,327|\n",
      "|      amc|         3,239|\n",
      "| plymouth|         3,382|\n",
      "|    chevy|         4,376|\n",
      "|    dodge|         4,300|\n",
      "|     ford|         3,791|\n",
      "|chevrolet|         3,460|\n",
      "|  mercury|         2,220|\n",
      "|       hi|         4,732|\n",
      "+---------+--------------+\n",
      "\n"
     ]
    }
   ],
   "source": [
    "avg_weight_by_brand.show()"
   ],
   "metadata": {
    "collapsed": false,
    "pycharm": {
     "name": "#%%\n"
    }
   }
  },
  {
   "cell_type": "markdown",
   "source": [
    "## Using RDD"
   ],
   "metadata": {
    "collapsed": false
   }
  },
  {
   "cell_type": "code",
   "execution_count": 28,
   "outputs": [],
   "source": [
    "rdd = data.rdd"
   ],
   "metadata": {
    "collapsed": false,
    "pycharm": {
     "name": "#%%\n"
    }
   }
  },
  {
   "cell_type": "code",
   "execution_count": 29,
   "outputs": [
    {
     "data": {
      "text/plain": "[Row(make='amc', Model='amc ambassador dpl', MPG=15, Cylinders=8, Engine Disp=390, Horsepower=190, Weight=3850, Accelerate=8.5, Year=70, Origin='American'),\n Row(make='amc', Model='amc gremlin', MPG=21, Cylinders=6, Engine Disp=199, Horsepower=90, Weight=2648, Accelerate=15.0, Year=70, Origin='American'),\n Row(make='amc', Model='amc hornet', MPG=18, Cylinders=6, Engine Disp=199, Horsepower=97, Weight=2774, Accelerate=15.5, Year=70, Origin='American'),\n Row(make='amc', Model='amc rebel sst', MPG=16, Cylinders=8, Engine Disp=304, Horsepower=150, Weight=3433, Accelerate=12.0, Year=70, Origin='American'),\n Row(make='buick', Model='buick estate wagon (sw)', MPG=14, Cylinders=8, Engine Disp=455, Horsepower=225, Weight=3086, Accelerate=10.0, Year=70, Origin='American'),\n Row(make='buick', Model='buick skylark 320', MPG=15, Cylinders=8, Engine Disp=350, Horsepower=165, Weight=3693, Accelerate=11.5, Year=70, Origin='American'),\n Row(make='chevrolet', Model='chevrolet chevelle malibu', MPG=18, Cylinders=8, Engine Disp=307, Horsepower=130, Weight=3504, Accelerate=12.0, Year=70, Origin='American'),\n Row(make='chevrolet', Model='chevrolet impala', MPG=14, Cylinders=8, Engine Disp=454, Horsepower=220, Weight=4354, Accelerate=9.0, Year=70, Origin='American'),\n Row(make='chevrolet', Model='chevrolet monte carlo', MPG=15, Cylinders=8, Engine Disp=400, Horsepower=150, Weight=3761, Accelerate=9.5, Year=70, Origin='American'),\n Row(make='chevy', Model='chevy c20', MPG=10, Cylinders=8, Engine Disp=307, Horsepower=200, Weight=4376, Accelerate=15.0, Year=70, Origin='American'),\n Row(make='dodge', Model='dodge challenger se', MPG=15, Cylinders=8, Engine Disp=383, Horsepower=170, Weight=3563, Accelerate=10.0, Year=70, Origin='American'),\n Row(make='dodge', Model='dodge d200', MPG=11, Cylinders=8, Engine Disp=318, Horsepower=210, Weight=4382, Accelerate=13.5, Year=70, Origin='American'),\n Row(make='ford', Model='ford f250', MPG=10, Cylinders=8, Engine Disp=360, Horsepower=215, Weight=4615, Accelerate=14.0, Year=70, Origin='American'),\n Row(make='ford', Model='ford galaxie 500', MPG=15, Cylinders=8, Engine Disp=429, Horsepower=198, Weight=4341, Accelerate=10.0, Year=70, Origin='American'),\n Row(make='ford', Model='ford maverick', MPG=21, Cylinders=6, Engine Disp=200, Horsepower=85, Weight=2587, Accelerate=16.0, Year=70, Origin='American'),\n Row(make='ford', Model='ford torino', MPG=17, Cylinders=8, Engine Disp=302, Horsepower=140, Weight=3449, Accelerate=10.5, Year=70, Origin='American'),\n Row(make='hi', Model='hi 1200d', MPG=9, Cylinders=8, Engine Disp=304, Horsepower=193, Weight=4732, Accelerate=18.5, Year=70, Origin='American'),\n Row(make='plymouth', Model=\"plymouth 'cuda 340\", MPG=14, Cylinders=8, Engine Disp=340, Horsepower=160, Weight=3609, Accelerate=8.0, Year=70, Origin='American'),\n Row(make='plymouth', Model='plymouth duster', MPG=22, Cylinders=6, Engine Disp=198, Horsepower=95, Weight=2833, Accelerate=15.5, Year=70, Origin='American'),\n Row(make='plymouth', Model='plymouth fury iii', MPG=14, Cylinders=8, Engine Disp=440, Horsepower=215, Weight=4312, Accelerate=8.5, Year=70, Origin='American'),\n Row(make='plymouth', Model='plymouth satellite', MPG=18, Cylinders=8, Engine Disp=318, Horsepower=150, Weight=3436, Accelerate=11.0, Year=70, Origin='American'),\n Row(make='pontiac', Model='pontiac catalina', MPG=14, Cylinders=8, Engine Disp=455, Horsepower=225, Weight=4425, Accelerate=10.0, Year=70, Origin='American'),\n Row(make='audi', Model='audi 100 ls', MPG=24, Cylinders=4, Engine Disp=107, Horsepower=90, Weight=2430, Accelerate=14.5, Year=70, Origin='European'),\n Row(make='bmw', Model='bmw 2002', MPG=26, Cylinders=4, Engine Disp=121, Horsepower=113, Weight=2234, Accelerate=12.5, Year=70, Origin='European'),\n Row(make='peugeot', Model='peugeot 504', MPG=25, Cylinders=4, Engine Disp=110, Horsepower=87, Weight=2672, Accelerate=17.5, Year=70, Origin='European'),\n Row(make='saab', Model='saab 99e', MPG=25, Cylinders=4, Engine Disp=104, Horsepower=95, Weight=2375, Accelerate=17.5, Year=70, Origin='European'),\n Row(make='volkswagen', Model='volkswagen 1131 deluxe sedan', MPG=26, Cylinders=4, Engine Disp=97, Horsepower=46, Weight=1835, Accelerate=20.5, Year=70, Origin='European'),\n Row(make='datsun', Model='datsun pl510', MPG=27, Cylinders=4, Engine Disp=97, Horsepower=88, Weight=2130, Accelerate=14.5, Year=70, Origin='Japanese'),\n Row(make='toyato', Model='toyota corona mark ii', MPG=24, Cylinders=4, Engine Disp=113, Horsepower=95, Weight=2372, Accelerate=15.0, Year=70, Origin='Japanese'),\n Row(make='amc', Model='amc gremlin', MPG=19, Cylinders=6, Engine Disp=232, Horsepower=100, Weight=2634, Accelerate=13.0, Year=71, Origin='American'),\n Row(make='amc', Model='amc hornet sportabout (sw)', MPG=18, Cylinders=6, Engine Disp=258, Horsepower=110, Weight=2962, Accelerate=13.5, Year=71, Origin='American'),\n Row(make='amc', Model='amc matador', MPG=18, Cylinders=6, Engine Disp=232, Horsepower=100, Weight=3288, Accelerate=15.5, Year=71, Origin='American'),\n Row(make='chevrolet', Model='chevrolet chevelle malibu', MPG=17, Cylinders=6, Engine Disp=250, Horsepower=100, Weight=3329, Accelerate=15.5, Year=71, Origin='American'),\n Row(make='chevrolet', Model='chevrolet impala', MPG=14, Cylinders=8, Engine Disp=350, Horsepower=165, Weight=4209, Accelerate=12.0, Year=71, Origin='American'),\n Row(make='chevrolet', Model='chevrolet vega (sw)', MPG=22, Cylinders=4, Engine Disp=140, Horsepower=72, Weight=2408, Accelerate=19.0, Year=71, Origin='American'),\n Row(make='chevrolet', Model='chevrolet vega 2300', MPG=28, Cylinders=4, Engine Disp=140, Horsepower=90, Weight=2264, Accelerate=15.5, Year=71, Origin='American'),\n Row(make='dodge', Model='dodge monaco (sw)', MPG=12, Cylinders=8, Engine Disp=383, Horsepower=180, Weight=4955, Accelerate=11.5, Year=71, Origin='American'),\n Row(make='ford', Model='ford country squire (sw)', MPG=13, Cylinders=8, Engine Disp=400, Horsepower=170, Weight=4746, Accelerate=12.0, Year=71, Origin='American'),\n Row(make='ford', Model='ford galaxie 500', MPG=14, Cylinders=8, Engine Disp=351, Horsepower=153, Weight=4154, Accelerate=13.5, Year=71, Origin='American'),\n Row(make='ford', Model='ford mustang', MPG=18, Cylinders=6, Engine Disp=250, Horsepower=88, Weight=3139, Accelerate=14.5, Year=71, Origin='American'),\n Row(make='ford', Model='ford torino 500', MPG=19, Cylinders=6, Engine Disp=250, Horsepower=88, Weight=3302, Accelerate=15.5, Year=71, Origin='American'),\n Row(make='mercury', Model='mercury capri 2000', MPG=23, Cylinders=4, Engine Disp=122, Horsepower=86, Weight=2220, Accelerate=14.0, Year=71, Origin='American'),\n Row(make='plymouth', Model='plymouth cricket', MPG=26, Cylinders=4, Engine Disp=91, Horsepower=70, Weight=1955, Accelerate=20.5, Year=71, Origin='American'),\n Row(make='plymouth', Model='plymouth fury iii', MPG=14, Cylinders=8, Engine Disp=318, Horsepower=150, Weight=4096, Accelerate=13.0, Year=71, Origin='American'),\n Row(make='plymouth', Model='plymouth satellite custom', MPG=16, Cylinders=6, Engine Disp=225, Horsepower=105, Weight=3439, Accelerate=15.5, Year=71, Origin='American'),\n Row(make='pontiac', Model='pontiac catalina brougham', MPG=14, Cylinders=8, Engine Disp=400, Horsepower=175, Weight=4464, Accelerate=11.5, Year=71, Origin='American'),\n Row(make='pontiac', Model='pontiac firebird', MPG=19, Cylinders=6, Engine Disp=250, Horsepower=100, Weight=3282, Accelerate=15.0, Year=71, Origin='American'),\n Row(make='pontiac', Model='pontiac safari (sw)', MPG=13, Cylinders=8, Engine Disp=400, Horsepower=175, Weight=5140, Accelerate=12.0, Year=71, Origin='American'),\n Row(make='fiat', Model='fiat 124b', MPG=30, Cylinders=4, Engine Disp=88, Horsepower=76, Weight=2065, Accelerate=14.5, Year=71, Origin='European'),\n Row(make='opel', Model='opel 1900', MPG=28, Cylinders=4, Engine Disp=116, Horsepower=90, Weight=2123, Accelerate=14.0, Year=71, Origin='European'),\n Row(make='peugeot', Model='peugeot 304', MPG=30, Cylinders=4, Engine Disp=79, Horsepower=70, Weight=2074, Accelerate=19.5, Year=71, Origin='European'),\n Row(make='volkswagen', Model='volkswagen model 111', MPG=27, Cylinders=4, Engine Disp=97, Horsepower=60, Weight=1834, Accelerate=19.0, Year=71, Origin='European'),\n Row(make='datsun', Model='datsun 1200', MPG=35, Cylinders=4, Engine Disp=72, Horsepower=69, Weight=1613, Accelerate=18.0, Year=71, Origin='Japanese'),\n Row(make='datsun', Model='datsun pl510', MPG=27, Cylinders=4, Engine Disp=97, Horsepower=88, Weight=2130, Accelerate=14.5, Year=71, Origin='Japanese'),\n Row(make='toyato', Model='toyota corolla 1200', MPG=31, Cylinders=4, Engine Disp=71, Horsepower=65, Weight=1773, Accelerate=19.0, Year=71, Origin='Japanese'),\n Row(make='toyato', Model='toyota corona', MPG=25, Cylinders=4, Engine Disp=113, Horsepower=95, Weight=2228, Accelerate=14.0, Year=71, Origin='Japanese'),\n Row(make='amc', Model='amc ambassador sst', MPG=17, Cylinders=8, Engine Disp=304, Horsepower=150, Weight=3672, Accelerate=11.5, Year=72, Origin='American'),\n Row(make='amc', Model='amc matador (sw)', MPG=15, Cylinders=8, Engine Disp=304, Horsepower=150, Weight=3892, Accelerate=12.5, Year=72, Origin='American'),\n Row(make='buick', Model='buick lesabre custom', MPG=13, Cylinders=8, Engine Disp=350, Horsepower=155, Weight=4502, Accelerate=13.5, Year=72, Origin='American'),\n Row(make='chevrolet', Model='chevrolet chevelle concours (sw)', MPG=13, Cylinders=8, Engine Disp=307, Horsepower=130, Weight=4098, Accelerate=14.0, Year=72, Origin='American'),\n Row(make='chevrolet', Model='chevrolet impala', MPG=13, Cylinders=8, Engine Disp=350, Horsepower=165, Weight=4274, Accelerate=12.0, Year=72, Origin='American'),\n Row(make='chevrolet', Model='chevrolet vega', MPG=20, Cylinders=4, Engine Disp=140, Horsepower=90, Weight=2408, Accelerate=19.5, Year=72, Origin='American')]"
     },
     "execution_count": 29,
     "metadata": {},
     "output_type": "execute_result"
    }
   ],
   "source": [
    "rdd.collect()"
   ],
   "metadata": {
    "collapsed": false,
    "pycharm": {
     "name": "#%%\n"
    }
   }
  },
  {
   "cell_type": "code",
   "execution_count": 30,
   "outputs": [],
   "source": [
    "americanCars = rdd.filter(lambda row : row[\"Origin\"]=='American')"
   ],
   "metadata": {
    "collapsed": false,
    "pycharm": {
     "name": "#%%\n"
    }
   }
  },
  {
   "cell_type": "code",
   "execution_count": 31,
   "outputs": [
    {
     "data": {
      "text/plain": "[Row(make='amc', Model='amc ambassador dpl', MPG=15, Cylinders=8, Engine Disp=390, Horsepower=190, Weight=3850, Accelerate=8.5, Year=70, Origin='American'),\n Row(make='amc', Model='amc gremlin', MPG=21, Cylinders=6, Engine Disp=199, Horsepower=90, Weight=2648, Accelerate=15.0, Year=70, Origin='American'),\n Row(make='amc', Model='amc hornet', MPG=18, Cylinders=6, Engine Disp=199, Horsepower=97, Weight=2774, Accelerate=15.5, Year=70, Origin='American'),\n Row(make='amc', Model='amc rebel sst', MPG=16, Cylinders=8, Engine Disp=304, Horsepower=150, Weight=3433, Accelerate=12.0, Year=70, Origin='American'),\n Row(make='buick', Model='buick estate wagon (sw)', MPG=14, Cylinders=8, Engine Disp=455, Horsepower=225, Weight=3086, Accelerate=10.0, Year=70, Origin='American'),\n Row(make='buick', Model='buick skylark 320', MPG=15, Cylinders=8, Engine Disp=350, Horsepower=165, Weight=3693, Accelerate=11.5, Year=70, Origin='American'),\n Row(make='chevrolet', Model='chevrolet chevelle malibu', MPG=18, Cylinders=8, Engine Disp=307, Horsepower=130, Weight=3504, Accelerate=12.0, Year=70, Origin='American'),\n Row(make='chevrolet', Model='chevrolet impala', MPG=14, Cylinders=8, Engine Disp=454, Horsepower=220, Weight=4354, Accelerate=9.0, Year=70, Origin='American'),\n Row(make='chevrolet', Model='chevrolet monte carlo', MPG=15, Cylinders=8, Engine Disp=400, Horsepower=150, Weight=3761, Accelerate=9.5, Year=70, Origin='American'),\n Row(make='chevy', Model='chevy c20', MPG=10, Cylinders=8, Engine Disp=307, Horsepower=200, Weight=4376, Accelerate=15.0, Year=70, Origin='American'),\n Row(make='dodge', Model='dodge challenger se', MPG=15, Cylinders=8, Engine Disp=383, Horsepower=170, Weight=3563, Accelerate=10.0, Year=70, Origin='American'),\n Row(make='dodge', Model='dodge d200', MPG=11, Cylinders=8, Engine Disp=318, Horsepower=210, Weight=4382, Accelerate=13.5, Year=70, Origin='American'),\n Row(make='ford', Model='ford f250', MPG=10, Cylinders=8, Engine Disp=360, Horsepower=215, Weight=4615, Accelerate=14.0, Year=70, Origin='American'),\n Row(make='ford', Model='ford galaxie 500', MPG=15, Cylinders=8, Engine Disp=429, Horsepower=198, Weight=4341, Accelerate=10.0, Year=70, Origin='American'),\n Row(make='ford', Model='ford maverick', MPG=21, Cylinders=6, Engine Disp=200, Horsepower=85, Weight=2587, Accelerate=16.0, Year=70, Origin='American'),\n Row(make='ford', Model='ford torino', MPG=17, Cylinders=8, Engine Disp=302, Horsepower=140, Weight=3449, Accelerate=10.5, Year=70, Origin='American'),\n Row(make='hi', Model='hi 1200d', MPG=9, Cylinders=8, Engine Disp=304, Horsepower=193, Weight=4732, Accelerate=18.5, Year=70, Origin='American'),\n Row(make='plymouth', Model=\"plymouth 'cuda 340\", MPG=14, Cylinders=8, Engine Disp=340, Horsepower=160, Weight=3609, Accelerate=8.0, Year=70, Origin='American'),\n Row(make='plymouth', Model='plymouth duster', MPG=22, Cylinders=6, Engine Disp=198, Horsepower=95, Weight=2833, Accelerate=15.5, Year=70, Origin='American'),\n Row(make='plymouth', Model='plymouth fury iii', MPG=14, Cylinders=8, Engine Disp=440, Horsepower=215, Weight=4312, Accelerate=8.5, Year=70, Origin='American'),\n Row(make='plymouth', Model='plymouth satellite', MPG=18, Cylinders=8, Engine Disp=318, Horsepower=150, Weight=3436, Accelerate=11.0, Year=70, Origin='American'),\n Row(make='pontiac', Model='pontiac catalina', MPG=14, Cylinders=8, Engine Disp=455, Horsepower=225, Weight=4425, Accelerate=10.0, Year=70, Origin='American'),\n Row(make='amc', Model='amc gremlin', MPG=19, Cylinders=6, Engine Disp=232, Horsepower=100, Weight=2634, Accelerate=13.0, Year=71, Origin='American'),\n Row(make='amc', Model='amc hornet sportabout (sw)', MPG=18, Cylinders=6, Engine Disp=258, Horsepower=110, Weight=2962, Accelerate=13.5, Year=71, Origin='American'),\n Row(make='amc', Model='amc matador', MPG=18, Cylinders=6, Engine Disp=232, Horsepower=100, Weight=3288, Accelerate=15.5, Year=71, Origin='American'),\n Row(make='chevrolet', Model='chevrolet chevelle malibu', MPG=17, Cylinders=6, Engine Disp=250, Horsepower=100, Weight=3329, Accelerate=15.5, Year=71, Origin='American'),\n Row(make='chevrolet', Model='chevrolet impala', MPG=14, Cylinders=8, Engine Disp=350, Horsepower=165, Weight=4209, Accelerate=12.0, Year=71, Origin='American'),\n Row(make='chevrolet', Model='chevrolet vega (sw)', MPG=22, Cylinders=4, Engine Disp=140, Horsepower=72, Weight=2408, Accelerate=19.0, Year=71, Origin='American'),\n Row(make='chevrolet', Model='chevrolet vega 2300', MPG=28, Cylinders=4, Engine Disp=140, Horsepower=90, Weight=2264, Accelerate=15.5, Year=71, Origin='American'),\n Row(make='dodge', Model='dodge monaco (sw)', MPG=12, Cylinders=8, Engine Disp=383, Horsepower=180, Weight=4955, Accelerate=11.5, Year=71, Origin='American'),\n Row(make='ford', Model='ford country squire (sw)', MPG=13, Cylinders=8, Engine Disp=400, Horsepower=170, Weight=4746, Accelerate=12.0, Year=71, Origin='American'),\n Row(make='ford', Model='ford galaxie 500', MPG=14, Cylinders=8, Engine Disp=351, Horsepower=153, Weight=4154, Accelerate=13.5, Year=71, Origin='American'),\n Row(make='ford', Model='ford mustang', MPG=18, Cylinders=6, Engine Disp=250, Horsepower=88, Weight=3139, Accelerate=14.5, Year=71, Origin='American'),\n Row(make='ford', Model='ford torino 500', MPG=19, Cylinders=6, Engine Disp=250, Horsepower=88, Weight=3302, Accelerate=15.5, Year=71, Origin='American'),\n Row(make='mercury', Model='mercury capri 2000', MPG=23, Cylinders=4, Engine Disp=122, Horsepower=86, Weight=2220, Accelerate=14.0, Year=71, Origin='American'),\n Row(make='plymouth', Model='plymouth cricket', MPG=26, Cylinders=4, Engine Disp=91, Horsepower=70, Weight=1955, Accelerate=20.5, Year=71, Origin='American'),\n Row(make='plymouth', Model='plymouth fury iii', MPG=14, Cylinders=8, Engine Disp=318, Horsepower=150, Weight=4096, Accelerate=13.0, Year=71, Origin='American'),\n Row(make='plymouth', Model='plymouth satellite custom', MPG=16, Cylinders=6, Engine Disp=225, Horsepower=105, Weight=3439, Accelerate=15.5, Year=71, Origin='American'),\n Row(make='pontiac', Model='pontiac catalina brougham', MPG=14, Cylinders=8, Engine Disp=400, Horsepower=175, Weight=4464, Accelerate=11.5, Year=71, Origin='American'),\n Row(make='pontiac', Model='pontiac firebird', MPG=19, Cylinders=6, Engine Disp=250, Horsepower=100, Weight=3282, Accelerate=15.0, Year=71, Origin='American'),\n Row(make='pontiac', Model='pontiac safari (sw)', MPG=13, Cylinders=8, Engine Disp=400, Horsepower=175, Weight=5140, Accelerate=12.0, Year=71, Origin='American'),\n Row(make='amc', Model='amc ambassador sst', MPG=17, Cylinders=8, Engine Disp=304, Horsepower=150, Weight=3672, Accelerate=11.5, Year=72, Origin='American'),\n Row(make='amc', Model='amc matador (sw)', MPG=15, Cylinders=8, Engine Disp=304, Horsepower=150, Weight=3892, Accelerate=12.5, Year=72, Origin='American'),\n Row(make='buick', Model='buick lesabre custom', MPG=13, Cylinders=8, Engine Disp=350, Horsepower=155, Weight=4502, Accelerate=13.5, Year=72, Origin='American'),\n Row(make='chevrolet', Model='chevrolet chevelle concours (sw)', MPG=13, Cylinders=8, Engine Disp=307, Horsepower=130, Weight=4098, Accelerate=14.0, Year=72, Origin='American'),\n Row(make='chevrolet', Model='chevrolet impala', MPG=13, Cylinders=8, Engine Disp=350, Horsepower=165, Weight=4274, Accelerate=12.0, Year=72, Origin='American'),\n Row(make='chevrolet', Model='chevrolet vega', MPG=20, Cylinders=4, Engine Disp=140, Horsepower=90, Weight=2408, Accelerate=19.5, Year=72, Origin='American')]"
     },
     "execution_count": 31,
     "metadata": {},
     "output_type": "execute_result"
    }
   ],
   "source": [
    "americanCars.collect()"
   ],
   "metadata": {
    "collapsed": false,
    "pycharm": {
     "name": "#%%\n"
    }
   }
  },
  {
   "cell_type": "code",
   "execution_count": 32,
   "outputs": [],
   "source": [
    "weightByBrand = americanCars.groupBy(lambda row : row[\"make\"])"
   ],
   "metadata": {
    "collapsed": false,
    "pycharm": {
     "name": "#%%\n"
    }
   }
  },
  {
   "cell_type": "code",
   "execution_count": 34,
   "outputs": [
    {
     "data": {
      "text/plain": "[('amc', <pyspark.resultiterable.ResultIterable at 0x1d5384a9670>),\n ('buick', <pyspark.resultiterable.ResultIterable at 0x1d5384a9f40>),\n ('chevrolet', <pyspark.resultiterable.ResultIterable at 0x1d5384a9e80>),\n ('chevy', <pyspark.resultiterable.ResultIterable at 0x1d5384a9a90>),\n ('dodge', <pyspark.resultiterable.ResultIterable at 0x1d5384a95e0>),\n ('ford', <pyspark.resultiterable.ResultIterable at 0x1d536c21b80>),\n ('hi', <pyspark.resultiterable.ResultIterable at 0x1d538457cd0>),\n ('plymouth', <pyspark.resultiterable.ResultIterable at 0x1d538457430>),\n ('pontiac', <pyspark.resultiterable.ResultIterable at 0x1d538457820>),\n ('mercury', <pyspark.resultiterable.ResultIterable at 0x1d538457910>)]"
     },
     "execution_count": 34,
     "metadata": {},
     "output_type": "execute_result"
    }
   ],
   "source": [
    "weightByBrand.collect()"
   ],
   "metadata": {
    "collapsed": false,
    "pycharm": {
     "name": "#%%\n"
    }
   }
  },
  {
   "cell_type": "code",
   "execution_count": 57,
   "outputs": [],
   "source": [
    "from numpy import mean\n",
    "\n",
    "avgWeightByBrand = weightByBrand.map(lambda x:(x[0], int(mean([y[\"Weight\"] for y in list(x[1])]))))"
   ],
   "metadata": {
    "collapsed": false,
    "pycharm": {
     "name": "#%%\n"
    }
   }
  },
  {
   "cell_type": "code",
   "execution_count": 59,
   "outputs": [
    {
     "data": {
      "text/plain": "[('amc', 3239),\n ('buick', 3760),\n ('chevrolet', 3460),\n ('chevy', 4376),\n ('dodge', 4300),\n ('ford', 3791),\n ('hi', 4732),\n ('plymouth', 3382),\n ('pontiac', 4327),\n ('mercury', 2220)]"
     },
     "execution_count": 59,
     "metadata": {},
     "output_type": "execute_result"
    }
   ],
   "source": [
    "avgWeightByBrand.collect()"
   ],
   "metadata": {
    "collapsed": false,
    "pycharm": {
     "name": "#%%\n"
    }
   }
  },
  {
   "cell_type": "markdown",
   "source": [
    "#### ending session"
   ],
   "metadata": {
    "collapsed": false
   }
  },
  {
   "cell_type": "code",
   "execution_count": 60,
   "outputs": [],
   "source": [
    "spark.stop()"
   ],
   "metadata": {
    "collapsed": false,
    "pycharm": {
     "name": "#%%\n"
    }
   }
  },
  {
   "cell_type": "code",
   "execution_count": null,
   "outputs": [],
   "source": [],
   "metadata": {
    "collapsed": false,
    "pycharm": {
     "name": "#%%\n"
    }
   }
  }
 ],
 "metadata": {
  "kernelspec": {
   "display_name": "Python 3",
   "language": "python",
   "name": "python3"
  },
  "language_info": {
   "codemirror_mode": {
    "name": "ipython",
    "version": 2
   },
   "file_extension": ".py",
   "mimetype": "text/x-python",
   "name": "python",
   "nbconvert_exporter": "python",
   "pygments_lexer": "ipython2",
   "version": "2.7.6"
  }
 },
 "nbformat": 4,
 "nbformat_minor": 0
}