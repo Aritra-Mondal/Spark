{
 "cells": [
  {
   "cell_type": "raw",
   "source": [
    "#### Importing Libraries"
   ],
   "metadata": {
    "collapsed": false,
    "pycharm": {
     "name": "#%% raw\n"
    }
   }
  },
  {
   "cell_type": "code",
   "metadata": {
    "collapsed": true,
    "pycharm": {
     "name": "#%%\n"
    }
   },
   "source": [
    "from pyspark.sql import SparkSession\n",
    "from pyspark.sql.types import IntegerType, StringType, StructType, StructField"
   ],
   "execution_count": null,
   "outputs": []
  },
  {
   "cell_type": "markdown",
   "source": [
    "##### Creating spark session"
   ],
   "metadata": {
    "collapsed": false
   }
  },
  {
   "cell_type": "code",
   "source": [
    "spark = SparkSession.builder.appName(\"WordCount\").master('local[*]').getOrCreate()"
   ],
   "metadata": {
    "collapsed": false,
    "pycharm": {
     "name": "#%%\n"
    }
   },
   "execution_count": null,
   "outputs": []
  },
  {
   "cell_type": "code",
   "execution_count": 2,
   "outputs": [],
   "source": [
    "df = spark.read.csv(\"./data/wordcount.txt\")"
   ],
   "metadata": {
    "collapsed": false,
    "pycharm": {
     "name": "#%%\n"
    }
   }
  },
  {
   "cell_type": "code",
   "execution_count": 3,
   "outputs": [
    {
     "name": "stdout",
     "output_type": "stream",
     "text": [
      "+--------------------+\n",
      "|                 _c0|\n",
      "+--------------------+\n",
      "|hadoop spark scal...|\n",
      "|hadoop scala flum...|\n",
      "|mapreduce hadoop ...|\n",
      "|spark scala trans...|\n",
      "|spark scala rdd t...|\n",
      "|hadoop spark scal...|\n",
      "|hadoop scala flum...|\n",
      "|mapreduce hadoop ...|\n",
      "|spark scala trans...|\n",
      "|spark scala rdd t...|\n",
      "|hadoop spark scal...|\n",
      "|hadoop scala flum...|\n",
      "|mapreduce hadoop ...|\n",
      "|spark scala trans...|\n",
      "+--------------------+\n",
      "\n"
     ]
    }
   ],
   "source": [
    "df.show()"
   ],
   "metadata": {
    "collapsed": false,
    "pycharm": {
     "name": "#%%\n"
    }
   }
  },
  {
   "cell_type": "markdown",
   "source": [
    "#### Counting words in the text file"
   ],
   "metadata": {
    "collapsed": false
   }
  },
  {
   "cell_type": "code",
   "execution_count": 4,
   "outputs": [],
   "source": [
    "df1 = df.rdd.flatMap(lambda x:x[0].split(\" \"))"
   ],
   "metadata": {
    "collapsed": false,
    "pycharm": {
     "name": "#%%\n"
    }
   }
  },
  {
   "cell_type": "code",
   "execution_count": 6,
   "outputs": [
    {
     "name": "stdout",
     "output_type": "stream",
     "text": [
      "['hadoop', 'spark', 'scala', 'flatmap', 'map', 'groupby', 'spark', 'spark', 'hadoop', 'scala', 'flume', 'oozie', 'sqoop', 'hive', 'hive', 'spark', 'spark', 'mapreduce', 'hadoop', 'hive', 'hadoop', 'hdfs', 'flatmap', 'rdd', 'scala', 'spark', 'scala', 'transformations', 'actions', 'rdd', 'rdd', 'rdd', 'rdd', 'spark', 'scala', 'rdd', 'transformations', 'actions', 'rdd', 'rdd', 'rdd', 'hadoop', 'spark', 'scala', 'flatmap', 'map', 'groupby', 'spark', 'spark', 'hadoop', 'scala', 'flume', 'oozie', 'sqoop', 'hive', 'hive', 'spark', 'spark', 'mapreduce', 'hadoop', 'hive', 'hadoop', 'hdfs', 'flatmap', 'rdd', 'scala', 'spark', 'scala', 'transformations', 'actions', 'rdd', 'rdd', 'rdd', 'rdd', 'spark', 'scala', 'rdd', 'transformations', 'actions', 'rdd', 'rdd', 'rdd', 'hadoop', 'spark', 'scala', 'flatmap', 'map', 'groupby', 'spark', 'spark', 'hadoop', 'scala', 'flume', 'oozie', 'sqoop', 'hive', 'hive', 'spark', 'spark', 'mapreduce', 'hadoop', 'hive', 'hadoop', 'hdfs', 'flatmap', 'rdd', 'scala', 'spark', 'scala', 'transformations', 'actions', 'rdd', 'rdd', 'rdd', 'rdd']\n"
     ]
    }
   ],
   "source": [
    "print(df1.collect())"
   ],
   "metadata": {
    "collapsed": false,
    "pycharm": {
     "name": "#%%\n"
    }
   }
  },
  {
   "cell_type": "code",
   "execution_count": 7,
   "outputs": [],
   "source": [
    "df2 = df1.map(lambda word:(word, 1)).reduceByKey(lambda a,b: a+b)"
   ],
   "metadata": {
    "collapsed": false,
    "pycharm": {
     "name": "#%%\n"
    }
   }
  },
  {
   "cell_type": "code",
   "execution_count": 8,
   "outputs": [
    {
     "data": {
      "text/plain": "[('hadoop', 12),\n ('spark', 20),\n ('scala', 14),\n ('flatmap', 6),\n ('map', 3),\n ('groupby', 3),\n ('flume', 3),\n ('oozie', 3),\n ('sqoop', 3),\n ('hive', 9),\n ('mapreduce', 3),\n ('hdfs', 3),\n ('rdd', 23),\n ('transformations', 5),\n ('actions', 5)]"
     },
     "execution_count": 8,
     "metadata": {},
     "output_type": "execute_result"
    }
   ],
   "source": [
    "df2.collect()"
   ],
   "metadata": {
    "collapsed": false,
    "pycharm": {
     "name": "#%%\n"
    }
   }
  },
  {
   "cell_type": "code",
   "execution_count": 20,
   "outputs": [],
   "source": [
    "schema = StructType([\n",
    "    StructField(\"Word\", StringType(), False),\n",
    "    StructField(\"Freq\", IntegerType(),False)\n",
    "])\n",
    "data_freq = spark.createDataFrame(df2, schema=schema)"
   ],
   "metadata": {
    "collapsed": false,
    "pycharm": {
     "name": "#%%\n"
    }
   }
  },
  {
   "cell_type": "code",
   "execution_count": 21,
   "outputs": [
    {
     "name": "stdout",
     "output_type": "stream",
     "text": [
      "+---------------+----+\n",
      "|           Word|Freq|\n",
      "+---------------+----+\n",
      "|         hadoop|  12|\n",
      "|          spark|  20|\n",
      "|          scala|  14|\n",
      "|        flatmap|   6|\n",
      "|            map|   3|\n",
      "|        groupby|   3|\n",
      "|          flume|   3|\n",
      "|          oozie|   3|\n",
      "|          sqoop|   3|\n",
      "|           hive|   9|\n",
      "|      mapreduce|   3|\n",
      "|           hdfs|   3|\n",
      "|            rdd|  23|\n",
      "|transformations|   5|\n",
      "|        actions|   5|\n",
      "+---------------+----+\n",
      "\n"
     ]
    }
   ],
   "source": [
    "data_freq.show()"
   ],
   "metadata": {
    "collapsed": false,
    "pycharm": {
     "name": "#%%\n"
    }
   }
  },
  {
   "cell_type": "markdown",
   "source": [
    "#### filter out all words that occurs less than a given threshold (taken 3 as threshold)"
   ],
   "metadata": {
    "collapsed": false
   }
  },
  {
   "cell_type": "code",
   "execution_count": 28,
   "outputs": [
    {
     "data": {
      "text/plain": "[('hadoop', 12),\n ('spark', 20),\n ('scala', 14),\n ('flatmap', 6),\n ('hive', 9),\n ('rdd', 23),\n ('transformations', 5),\n ('actions', 5)]"
     },
     "execution_count": 28,
     "metadata": {},
     "output_type": "execute_result"
    }
   ],
   "source": [
    "filtered_df2 = df2.filter(lambda a : a[1] > 3)\n",
    "filtered_df2.collect()"
   ],
   "metadata": {
    "collapsed": false,
    "pycharm": {
     "name": "#%%\n"
    }
   }
  },
  {
   "cell_type": "markdown",
   "source": [
    "#### counting letter freq from filtered RDD"
   ],
   "metadata": {
    "collapsed": false
   }
  },
  {
   "cell_type": "code",
   "execution_count": 39,
   "outputs": [],
   "source": [
    "df3=  filtered_df2.map(lambda a: a[0])"
   ],
   "metadata": {
    "collapsed": false,
    "pycharm": {
     "name": "#%%\n"
    }
   }
  },
  {
   "cell_type": "code",
   "execution_count": 40,
   "outputs": [],
   "source": [
    "letters = df3.flatMap(lambda x : list(x))"
   ],
   "metadata": {
    "collapsed": false,
    "pycharm": {
     "name": "#%%\n"
    }
   }
  },
  {
   "cell_type": "code",
   "execution_count": 41,
   "outputs": [],
   "source": [
    "letters_freq = letters.map(lambda x: (x,1)).reduceByKey(lambda a,b : a+b)"
   ],
   "metadata": {
    "collapsed": false,
    "pycharm": {
     "name": "#%%\n"
    }
   }
  },
  {
   "cell_type": "code",
   "execution_count": 42,
   "outputs": [
    {
     "data": {
      "text/plain": "[('h', 2),\n ('a', 9),\n ('d', 3),\n ('o', 5),\n ('p', 3),\n ('s', 5),\n ('r', 4),\n ('k', 1),\n ('c', 2),\n ('l', 2),\n ('f', 2),\n ('t', 4),\n ('m', 2),\n ('i', 3),\n ('v', 1),\n ('e', 1),\n ('n', 3)]"
     },
     "execution_count": 42,
     "metadata": {},
     "output_type": "execute_result"
    }
   ],
   "source": [
    "letters_freq.collect()"
   ],
   "metadata": {
    "collapsed": false,
    "pycharm": {
     "name": "#%%\n"
    }
   }
  },
  {
   "cell_type": "code",
   "execution_count": 43,
   "outputs": [],
   "source": [
    "schema = StructType([\n",
    "    StructField(\"Letter\", StringType(), False),\n",
    "    StructField(\"Freq\", IntegerType(),False)\n",
    "])\n",
    "letters_freq_df = spark.createDataFrame(letters_freq, schema=schema)"
   ],
   "metadata": {
    "collapsed": false,
    "pycharm": {
     "name": "#%%\n"
    }
   }
  },
  {
   "cell_type": "code",
   "execution_count": 44,
   "outputs": [
    {
     "name": "stdout",
     "output_type": "stream",
     "text": [
      "+------+----+\n",
      "|Letter|Freq|\n",
      "+------+----+\n",
      "|     h|   2|\n",
      "|     a|   9|\n",
      "|     d|   3|\n",
      "|     o|   5|\n",
      "|     p|   3|\n",
      "|     s|   5|\n",
      "|     r|   4|\n",
      "|     k|   1|\n",
      "|     c|   2|\n",
      "|     l|   2|\n",
      "|     f|   2|\n",
      "|     t|   4|\n",
      "|     m|   2|\n",
      "|     i|   3|\n",
      "|     v|   1|\n",
      "|     e|   1|\n",
      "|     n|   3|\n",
      "+------+----+\n",
      "\n"
     ]
    }
   ],
   "source": [
    "letters_freq_df.show()"
   ],
   "metadata": {
    "collapsed": false,
    "pycharm": {
     "name": "#%%\n"
    }
   }
  },
  {
   "cell_type": "markdown",
   "source": [
    "#### Ending Spark Session"
   ],
   "metadata": {
    "collapsed": false
   }
  },
  {
   "cell_type": "code",
   "execution_count": 45,
   "outputs": [],
   "source": [
    "spark.stop()"
   ],
   "metadata": {
    "collapsed": false,
    "pycharm": {
     "name": "#%%\n"
    }
   }
  },
  {
   "cell_type": "code",
   "execution_count": null,
   "outputs": [],
   "source": [],
   "metadata": {
    "collapsed": false,
    "pycharm": {
     "name": "#%%\n"
    }
   }
  }
 ],
 "metadata": {
  "kernelspec": {
   "display_name": "Python 3",
   "language": "python",
   "name": "python3"
  },
  "language_info": {
   "codemirror_mode": {
    "name": "ipython",
    "version": 2
   },
   "file_extension": ".py",
   "mimetype": "text/x-python",
   "name": "python",
   "nbconvert_exporter": "python",
   "pygments_lexer": "ipython2",
   "version": "2.7.6"
  }
 },
 "nbformat": 4,
 "nbformat_minor": 0
}