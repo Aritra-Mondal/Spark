{
 "cells": [
  {
   "cell_type": "markdown",
   "source": [
    "### Importing Libraries"
   ],
   "metadata": {
    "collapsed": false
   }
  },
  {
   "cell_type": "code",
   "execution_count": 1,
   "metadata": {
    "collapsed": true
   },
   "outputs": [],
   "source": [
    "from pyspark.sql import SparkSession\n",
    "from pyspark.sql.functions import format_number"
   ]
  },
  {
   "cell_type": "markdown",
   "source": [
    "### Starting Spark Session and Load Data"
   ],
   "metadata": {
    "collapsed": false
   }
  },
  {
   "cell_type": "code",
   "execution_count": 2,
   "outputs": [],
   "source": [
    "spark = SparkSession.builder.appName(\"Top movies\").master(\"local[*]\").getOrCreate()"
   ],
   "metadata": {
    "collapsed": false,
    "pycharm": {
     "name": "#%%\n"
    }
   }
  },
  {
   "cell_type": "code",
   "execution_count": 58,
   "outputs": [],
   "source": [
    "movies = spark.read.csv(\"./data/movies.csv\", inferSchema=True, header=True)\n",
    "ratings = spark.read.csv(\"./data/ratings.csv\", inferSchema=True, header=True)"
   ],
   "metadata": {
    "collapsed": false,
    "pycharm": {
     "name": "#%%\n"
    }
   }
  },
  {
   "cell_type": "code",
   "execution_count": 59,
   "outputs": [
    {
     "name": "stdout",
     "output_type": "stream",
     "text": [
      "root\n",
      " |-- movieId: integer (nullable = true)\n",
      " |-- title: string (nullable = true)\n",
      " |-- genres: string (nullable = true)\n",
      "\n"
     ]
    }
   ],
   "source": [
    "movies.printSchema()"
   ],
   "metadata": {
    "collapsed": false,
    "pycharm": {
     "name": "#%%\n"
    }
   }
  },
  {
   "cell_type": "code",
   "execution_count": 60,
   "outputs": [
    {
     "name": "stdout",
     "output_type": "stream",
     "text": [
      "root\n",
      " |-- userId: integer (nullable = true)\n",
      " |-- movieId: integer (nullable = true)\n",
      " |-- rating: double (nullable = true)\n",
      " |-- timestamp: integer (nullable = true)\n",
      "\n"
     ]
    }
   ],
   "source": [
    "ratings.printSchema()"
   ],
   "metadata": {
    "collapsed": false,
    "pycharm": {
     "name": "#%%\n"
    }
   }
  },
  {
   "cell_type": "code",
   "execution_count": 61,
   "outputs": [
    {
     "name": "stdout",
     "output_type": "stream",
     "text": [
      "+-------+--------------------+--------------------+\n",
      "|movieId|               title|              genres|\n",
      "+-------+--------------------+--------------------+\n",
      "|      1|    Toy Story (1995)|Adventure|Animati...|\n",
      "|      2|      Jumanji (1995)|Adventure|Childre...|\n",
      "|      3|Grumpier Old Men ...|      Comedy|Romance|\n",
      "|      4|Waiting to Exhale...|Comedy|Drama|Romance|\n",
      "|      5|Father of the Bri...|              Comedy|\n",
      "|      6|         Heat (1995)|Action|Crime|Thri...|\n",
      "|      7|      Sabrina (1995)|      Comedy|Romance|\n",
      "|      8| Tom and Huck (1995)|  Adventure|Children|\n",
      "|      9| Sudden Death (1995)|              Action|\n",
      "|     10|    GoldenEye (1995)|Action|Adventure|...|\n",
      "|     11|American Presiden...|Comedy|Drama|Romance|\n",
      "|     12|Dracula: Dead and...|       Comedy|Horror|\n",
      "|     13|        Balto (1995)|Adventure|Animati...|\n",
      "|     14|        Nixon (1995)|               Drama|\n",
      "|     15|Cutthroat Island ...|Action|Adventure|...|\n",
      "|     16|       Casino (1995)|         Crime|Drama|\n",
      "|     17|Sense and Sensibi...|       Drama|Romance|\n",
      "|     18|   Four Rooms (1995)|              Comedy|\n",
      "|     19|Ace Ventura: When...|              Comedy|\n",
      "|     20|  Money Train (1995)|Action|Comedy|Cri...|\n",
      "+-------+--------------------+--------------------+\n",
      "only showing top 20 rows\n",
      "\n"
     ]
    }
   ],
   "source": [
    "movies.show()"
   ],
   "metadata": {
    "collapsed": false,
    "pycharm": {
     "name": "#%%\n"
    }
   }
  },
  {
   "cell_type": "code",
   "execution_count": 62,
   "outputs": [
    {
     "name": "stdout",
     "output_type": "stream",
     "text": [
      "+------+-------+------+----------+\n",
      "|userId|movieId|rating| timestamp|\n",
      "+------+-------+------+----------+\n",
      "|     1|     31|   2.5|1260759144|\n",
      "|     1|   1029|   3.0|1260759179|\n",
      "|     1|   1061|   3.0|1260759182|\n",
      "|     1|   1129|   2.0|1260759185|\n",
      "|     1|   1172|   4.0|1260759205|\n",
      "|     1|   1263|   2.0|1260759151|\n",
      "|     1|   1287|   2.0|1260759187|\n",
      "|     1|   1293|   2.0|1260759148|\n",
      "|     1|   1339|   3.5|1260759125|\n",
      "|     1|   1343|   2.0|1260759131|\n",
      "|     1|   1371|   2.5|1260759135|\n",
      "|     1|   1405|   1.0|1260759203|\n",
      "|     1|   1953|   4.0|1260759191|\n",
      "|     1|   2105|   4.0|1260759139|\n",
      "|     1|   2150|   3.0|1260759194|\n",
      "|     1|   2193|   2.0|1260759198|\n",
      "|     1|   2294|   2.0|1260759108|\n",
      "|     1|   2455|   2.5|1260759113|\n",
      "|     1|   2968|   1.0|1260759200|\n",
      "|     1|   3671|   3.0|1260759117|\n",
      "+------+-------+------+----------+\n",
      "only showing top 20 rows\n",
      "\n"
     ]
    }
   ],
   "source": [
    "ratings.show()"
   ],
   "metadata": {
    "collapsed": false,
    "pycharm": {
     "name": "#%%\n"
    }
   }
  },
  {
   "cell_type": "code",
   "execution_count": 63,
   "outputs": [
    {
     "data": {
      "text/plain": "100004"
     },
     "execution_count": 63,
     "metadata": {},
     "output_type": "execute_result"
    }
   ],
   "source": [
    "ratings.count()"
   ],
   "metadata": {
    "collapsed": false,
    "pycharm": {
     "name": "#%%\n"
    }
   }
  },
  {
   "cell_type": "markdown",
   "source": [
    "# Filter Movies That Received at least 10 user reviews"
   ],
   "metadata": {
    "collapsed": false
   }
  },
  {
   "cell_type": "code",
   "execution_count": 64,
   "outputs": [],
   "source": [
    "reviewCounts = ratings.groupBy(ratings.movieId).count().withColumnRenamed(\"count\",\"reviewCounts\")"
   ],
   "metadata": {
    "collapsed": false,
    "pycharm": {
     "name": "#%%\n"
    }
   }
  },
  {
   "cell_type": "code",
   "execution_count": 65,
   "outputs": [
    {
     "name": "stdout",
     "output_type": "stream",
     "text": [
      "+-------+------------+\n",
      "|movieId|reviewCounts|\n",
      "+-------+------------+\n",
      "|   1580|         190|\n",
      "|   2659|           3|\n",
      "|   3794|           5|\n",
      "|   3175|          65|\n",
      "|    471|          49|\n",
      "|   1088|          53|\n",
      "|   1342|          17|\n",
      "|   1645|          60|\n",
      "|   2366|          23|\n",
      "|   6620|          17|\n",
      "|   8638|          17|\n",
      "|  96488|           4|\n",
      "| 160563|           2|\n",
      "|   7982|           3|\n",
      "|   1238|          17|\n",
      "|   1959|          30|\n",
      "|    463|           7|\n",
      "|   2122|          11|\n",
      "|   1591|          15|\n",
      "|   5518|           1|\n",
      "+-------+------------+\n",
      "only showing top 20 rows\n",
      "\n"
     ]
    }
   ],
   "source": [
    "reviewCounts.show()"
   ],
   "metadata": {
    "collapsed": false,
    "pycharm": {
     "name": "#%%\n"
    }
   }
  },
  {
   "cell_type": "code",
   "execution_count": 66,
   "outputs": [],
   "source": [
    "reviewCountsGRE10 = reviewCounts.filter(reviewCounts[\"reviewCounts\"] >= 10)"
   ],
   "metadata": {
    "collapsed": false,
    "pycharm": {
     "name": "#%%\n"
    }
   }
  },
  {
   "cell_type": "code",
   "execution_count": 67,
   "outputs": [
    {
     "name": "stdout",
     "output_type": "stream",
     "text": [
      "+-------+------------+\n",
      "|movieId|reviewCounts|\n",
      "+-------+------------+\n",
      "|   1580|         190|\n",
      "|   3175|          65|\n",
      "|    471|          49|\n",
      "|   1088|          53|\n",
      "|   1342|          17|\n",
      "|   1645|          60|\n",
      "|   2366|          23|\n",
      "|   6620|          17|\n",
      "|   8638|          17|\n",
      "|   1238|          17|\n",
      "|   1959|          30|\n",
      "|   2122|          11|\n",
      "|   1591|          15|\n",
      "|  44022|          20|\n",
      "|   2142|          12|\n",
      "|   2866|          10|\n",
      "|  68135|          11|\n",
      "|   3997|          10|\n",
      "|   1721|         164|\n",
      "|    858|         200|\n",
      "+-------+------------+\n",
      "only showing top 20 rows\n",
      "\n"
     ]
    }
   ],
   "source": [
    "reviewCountsGRE10.show()"
   ],
   "metadata": {
    "collapsed": false,
    "pycharm": {
     "name": "#%%\n"
    }
   }
  },
  {
   "cell_type": "code",
   "execution_count": 68,
   "outputs": [
    {
     "data": {
      "text/plain": "2245"
     },
     "execution_count": 68,
     "metadata": {},
     "output_type": "execute_result"
    }
   ],
   "source": [
    "reviewCountsGRE10.count()"
   ],
   "metadata": {
    "collapsed": false,
    "pycharm": {
     "name": "#%%\n"
    }
   }
  },
  {
   "cell_type": "markdown",
   "source": [
    "### Join reviewCountsGRE10 with ratings data"
   ],
   "metadata": {
    "collapsed": false
   }
  },
  {
   "cell_type": "code",
   "execution_count": 69,
   "outputs": [],
   "source": [
    "df = reviewCountsGRE10.join(ratings, ratings[\"movieId\"] == reviewCountsGRE10[\"movieId\"])"
   ],
   "metadata": {
    "collapsed": false,
    "pycharm": {
     "name": "#%%\n"
    }
   }
  },
  {
   "cell_type": "code",
   "execution_count": 70,
   "outputs": [
    {
     "name": "stdout",
     "output_type": "stream",
     "text": [
      "+-------+------------+------+-------+------+----------+\n",
      "|movieId|reviewCounts|userId|movieId|rating| timestamp|\n",
      "+-------+------------+------+-------+------+----------+\n",
      "|     31|          42|     1|     31|   2.5|1260759144|\n",
      "|   1029|          42|     1|   1029|   3.0|1260759179|\n",
      "|   1061|          33|     1|   1061|   3.0|1260759182|\n",
      "|   1129|          48|     1|   1129|   2.0|1260759185|\n",
      "|   1172|          46|     1|   1172|   4.0|1260759205|\n",
      "|   1263|          48|     1|   1263|   2.0|1260759151|\n",
      "|   1287|          46|     1|   1287|   2.0|1260759187|\n",
      "|   1293|          46|     1|   1293|   2.0|1260759148|\n",
      "|   1339|          52|     1|   1339|   3.5|1260759125|\n",
      "|   1343|          39|     1|   1343|   2.0|1260759131|\n",
      "|   1371|          47|     1|   1371|   2.5|1260759135|\n",
      "|   1405|          46|     1|   1405|   1.0|1260759203|\n",
      "|   1953|          46|     1|   1953|   4.0|1260759191|\n",
      "|   2105|          47|     1|   2105|   4.0|1260759139|\n",
      "|   2150|          36|     1|   2150|   3.0|1260759194|\n",
      "|   2193|          42|     1|   2193|   2.0|1260759198|\n",
      "|   2294|          53|     1|   2294|   2.0|1260759108|\n",
      "|   2455|          47|     1|   2455|   2.5|1260759113|\n",
      "|   2968|          43|     1|   2968|   1.0|1260759200|\n",
      "|   3671|          62|     1|   3671|   3.0|1260759117|\n",
      "+-------+------------+------+-------+------+----------+\n",
      "only showing top 20 rows\n",
      "\n"
     ]
    }
   ],
   "source": [
    "\n",
    "df.show()"
   ],
   "metadata": {
    "collapsed": false,
    "pycharm": {
     "name": "#%%\n"
    }
   }
  },
  {
   "cell_type": "code",
   "execution_count": 71,
   "outputs": [],
   "source": [
    "repeated_columns = [c for c in reviewCountsGRE10.columns if c in ratings.columns]\n",
    "\n",
    "for col in repeated_columns:\n",
    "    df = df.drop(reviewCountsGRE10[col])"
   ],
   "metadata": {
    "collapsed": false,
    "pycharm": {
     "name": "#%%\n"
    }
   }
  },
  {
   "cell_type": "code",
   "execution_count": 72,
   "outputs": [
    {
     "name": "stdout",
     "output_type": "stream",
     "text": [
      "+------------+------+-------+------+----------+\n",
      "|reviewCounts|userId|movieId|rating| timestamp|\n",
      "+------------+------+-------+------+----------+\n",
      "|          42|     1|     31|   2.5|1260759144|\n",
      "|          42|     1|   1029|   3.0|1260759179|\n",
      "|          33|     1|   1061|   3.0|1260759182|\n",
      "|          48|     1|   1129|   2.0|1260759185|\n",
      "|          46|     1|   1172|   4.0|1260759205|\n",
      "|          48|     1|   1263|   2.0|1260759151|\n",
      "|          46|     1|   1287|   2.0|1260759187|\n",
      "|          46|     1|   1293|   2.0|1260759148|\n",
      "|          52|     1|   1339|   3.5|1260759125|\n",
      "|          39|     1|   1343|   2.0|1260759131|\n",
      "|          47|     1|   1371|   2.5|1260759135|\n",
      "|          46|     1|   1405|   1.0|1260759203|\n",
      "|          46|     1|   1953|   4.0|1260759191|\n",
      "|          47|     1|   2105|   4.0|1260759139|\n",
      "|          36|     1|   2150|   3.0|1260759194|\n",
      "|          42|     1|   2193|   2.0|1260759198|\n",
      "|          53|     1|   2294|   2.0|1260759108|\n",
      "|          47|     1|   2455|   2.5|1260759113|\n",
      "|          43|     1|   2968|   1.0|1260759200|\n",
      "|          62|     1|   3671|   3.0|1260759117|\n",
      "+------------+------+-------+------+----------+\n",
      "only showing top 20 rows\n",
      "\n"
     ]
    }
   ],
   "source": [
    "df.show()"
   ],
   "metadata": {
    "collapsed": false,
    "pycharm": {
     "name": "#%%\n"
    }
   }
  },
  {
   "cell_type": "code",
   "execution_count": 73,
   "outputs": [
    {
     "data": {
      "text/plain": "81915"
     },
     "execution_count": 73,
     "metadata": {},
     "output_type": "execute_result"
    }
   ],
   "source": [
    "df.count()"
   ],
   "metadata": {
    "collapsed": false,
    "pycharm": {
     "name": "#%%\n"
    }
   }
  },
  {
   "cell_type": "markdown",
   "source": [
    "## TOP 20 movies with highest average ratings"
   ],
   "metadata": {
    "collapsed": false
   }
  },
  {
   "cell_type": "code",
   "execution_count": 74,
   "outputs": [],
   "source": [
    "avgRatings = df.groupBy(df.movieId).avg('rating').withColumnRenamed(\"avg(rating)\", \"AvgRating\")"
   ],
   "metadata": {
    "collapsed": false,
    "pycharm": {
     "name": "#%%\n"
    }
   }
  },
  {
   "cell_type": "code",
   "execution_count": 75,
   "outputs": [],
   "source": [
    "avgRatings_sorted = avgRatings.sort(avgRatings[\"AvgRating\"].desc())"
   ],
   "metadata": {
    "collapsed": false,
    "pycharm": {
     "name": "#%%\n"
    }
   }
  },
  {
   "cell_type": "code",
   "execution_count": 76,
   "outputs": [
    {
     "name": "stdout",
     "output_type": "stream",
     "text": [
      "+-------+-----------------+\n",
      "|movieId|        AvgRating|\n",
      "+-------+-----------------+\n",
      "|   1939|4.636363636363637|\n",
      "|   3469|4.541666666666667|\n",
      "|    858|           4.4875|\n",
      "|    318|4.487138263665595|\n",
      "|   1948|4.458333333333333|\n",
      "|   8132|4.454545454545454|\n",
      "|   1945|4.448275862068965|\n",
      "|   1147|           4.4375|\n",
      "|    926|4.434210526315789|\n",
      "|   1217|4.423076923076923|\n",
      "|    969|             4.42|\n",
      "|   3035|4.411764705882353|\n",
      "|   1066|4.409090909090909|\n",
      "|   2203|              4.4|\n",
      "|   2064|4.392857142857143|\n",
      "|    913|4.387096774193548|\n",
      "|   7502|4.386363636363637|\n",
      "|   1221|4.385185185185185|\n",
      "|    905|             4.38|\n",
      "|     50|4.370646766169155|\n",
      "+-------+-----------------+\n",
      "only showing top 20 rows\n",
      "\n"
     ]
    }
   ],
   "source": [
    "avgRatings_sorted.show()"
   ],
   "metadata": {
    "collapsed": false,
    "pycharm": {
     "name": "#%%\n"
    }
   }
  },
  {
   "cell_type": "code",
   "execution_count": 77,
   "outputs": [],
   "source": [
    "top_20 = avgRatings_sorted.take(20)"
   ],
   "metadata": {
    "collapsed": false,
    "pycharm": {
     "name": "#%%\n"
    }
   }
  },
  {
   "cell_type": "code",
   "execution_count": 78,
   "outputs": [
    {
     "data": {
      "text/plain": "[Row(movieId=1939, AvgRating=4.636363636363637),\n Row(movieId=3469, AvgRating=4.541666666666667),\n Row(movieId=858, AvgRating=4.4875),\n Row(movieId=318, AvgRating=4.487138263665595),\n Row(movieId=1948, AvgRating=4.458333333333333),\n Row(movieId=8132, AvgRating=4.454545454545454),\n Row(movieId=1945, AvgRating=4.448275862068965),\n Row(movieId=1147, AvgRating=4.4375),\n Row(movieId=926, AvgRating=4.434210526315789),\n Row(movieId=1217, AvgRating=4.423076923076923),\n Row(movieId=969, AvgRating=4.42),\n Row(movieId=3035, AvgRating=4.411764705882353),\n Row(movieId=1066, AvgRating=4.409090909090909),\n Row(movieId=2203, AvgRating=4.4),\n Row(movieId=2064, AvgRating=4.392857142857143),\n Row(movieId=913, AvgRating=4.387096774193548),\n Row(movieId=7502, AvgRating=4.386363636363637),\n Row(movieId=1221, AvgRating=4.385185185185185),\n Row(movieId=905, AvgRating=4.38),\n Row(movieId=50, AvgRating=4.370646766169155)]"
     },
     "execution_count": 78,
     "metadata": {},
     "output_type": "execute_result"
    }
   ],
   "source": [
    "top_20"
   ],
   "metadata": {
    "collapsed": false,
    "pycharm": {
     "name": "#%%\n"
    }
   }
  },
  {
   "cell_type": "code",
   "execution_count": 79,
   "outputs": [],
   "source": [
    "top_20_df = spark.createDataFrame(top_20)"
   ],
   "metadata": {
    "collapsed": false,
    "pycharm": {
     "name": "#%%\n"
    }
   }
  },
  {
   "cell_type": "code",
   "execution_count": 80,
   "outputs": [
    {
     "name": "stdout",
     "output_type": "stream",
     "text": [
      "+-------+-----------------+\n",
      "|movieId|        AvgRating|\n",
      "+-------+-----------------+\n",
      "|   1939|4.636363636363637|\n",
      "|   3469|4.541666666666667|\n",
      "|    858|           4.4875|\n",
      "|    318|4.487138263665595|\n",
      "|   1948|4.458333333333333|\n",
      "|   8132|4.454545454545454|\n",
      "|   1945|4.448275862068965|\n",
      "|   1147|           4.4375|\n",
      "|    926|4.434210526315789|\n",
      "|   1217|4.423076923076923|\n",
      "|    969|             4.42|\n",
      "|   3035|4.411764705882353|\n",
      "|   1066|4.409090909090909|\n",
      "|   2203|              4.4|\n",
      "|   2064|4.392857142857143|\n",
      "|    913|4.387096774193548|\n",
      "|   7502|4.386363636363637|\n",
      "|   1221|4.385185185185185|\n",
      "|    905|             4.38|\n",
      "|     50|4.370646766169155|\n",
      "+-------+-----------------+\n",
      "\n"
     ]
    }
   ],
   "source": [
    "top_20_df.show()"
   ],
   "metadata": {
    "collapsed": false,
    "pycharm": {
     "name": "#%%\n"
    }
   }
  },
  {
   "cell_type": "markdown",
   "source": [
    "## Finding top20 movies"
   ],
   "metadata": {
    "collapsed": false
   }
  },
  {
   "cell_type": "code",
   "execution_count": 81,
   "outputs": [],
   "source": [
    "result = top_20_df.join(movies,\"movieId\")"
   ],
   "metadata": {
    "collapsed": false,
    "pycharm": {
     "name": "#%%\n"
    }
   }
  },
  {
   "cell_type": "code",
   "execution_count": 82,
   "outputs": [
    {
     "name": "stdout",
     "output_type": "stream",
     "text": [
      "+-------+-----------------+--------------------+--------------------+\n",
      "|movieId|        AvgRating|               title|              genres|\n",
      "+-------+-----------------+--------------------+--------------------+\n",
      "|   1939|4.636363636363637|Best Years of Our...|           Drama|War|\n",
      "|   3469|4.541666666666667|Inherit the Wind ...|               Drama|\n",
      "|    858|           4.4875|Godfather, The (1...|         Crime|Drama|\n",
      "|    318|4.487138263665595|Shawshank Redempt...|         Crime|Drama|\n",
      "|   1948|4.458333333333333|    Tom Jones (1963)|Adventure|Comedy|...|\n",
      "|   8132|4.454545454545454|    Gladiator (1992)|        Action|Drama|\n",
      "|   1945|4.448275862068965|On the Waterfront...|         Crime|Drama|\n",
      "|   1147|           4.4375|When We Were King...|         Documentary|\n",
      "|    926|4.434210526315789|All About Eve (1950)|               Drama|\n",
      "|   1217|4.423076923076923|          Ran (1985)|           Drama|War|\n",
      "|    969|             4.42|African Queen, Th...|Adventure|Comedy|...|\n",
      "|   3035|4.411764705882353|Mister Roberts (1...|    Comedy|Drama|War|\n",
      "|   1066|4.409090909090909|Shall We Dance (1...|Comedy|Musical|Ro...|\n",
      "|   2203|              4.4|Shadow of a Doubt...|Crime|Drama|Thriller|\n",
      "|   2064|4.392857142857143|   Roger & Me (1989)|         Documentary|\n",
      "|    913|4.387096774193548|Maltese Falcon, T...|   Film-Noir|Mystery|\n",
      "|   7502|4.386363636363637|Band of Brothers ...|    Action|Drama|War|\n",
      "|   1221|4.385185185185185|Godfather: Part I...|         Crime|Drama|\n",
      "|    905|             4.38|It Happened One N...|      Comedy|Romance|\n",
      "|     50|4.370646766169155|Usual Suspects, T...|Crime|Mystery|Thr...|\n",
      "+-------+-----------------+--------------------+--------------------+\n",
      "\n"
     ]
    }
   ],
   "source": [
    "result.show()"
   ],
   "metadata": {
    "collapsed": false,
    "pycharm": {
     "name": "#%%\n"
    }
   }
  },
  {
   "cell_type": "code",
   "execution_count": 83,
   "outputs": [],
   "source": [
    "final_result = result.join(reviewCountsGRE10, \"movieId\")\n",
    "final_result = final_result.orderBy(final_result.AvgRating, final_result.reviewCounts)"
   ],
   "metadata": {
    "collapsed": false,
    "pycharm": {
     "name": "#%%\n"
    }
   }
  },
  {
   "cell_type": "markdown",
   "source": [
    "### Format according to requirements"
   ],
   "metadata": {
    "collapsed": false
   }
  },
  {
   "cell_type": "code",
   "execution_count": 84,
   "outputs": [],
   "source": [
    "final_result = final_result.select(\n",
    "    final_result[\"movieId\"],\n",
    "    final_result[\"title\"].alias(\"Movie_Name\"),\n",
    "    format_number(final_result[\"AvgRating\"].cast(\"float\"), 2).alias(\"Average_Rating\"),\n",
    "    final_result[\"reviewCounts\"].alias(\"Total_number_of_ratings\")\n",
    ")"
   ],
   "metadata": {
    "collapsed": false,
    "pycharm": {
     "name": "#%%\n"
    }
   }
  },
  {
   "cell_type": "code",
   "execution_count": 85,
   "outputs": [
    {
     "name": "stdout",
     "output_type": "stream",
     "text": [
      "+-------+-----------------------------------+--------------+-----------------------+\n",
      "|movieId|Movie_Name                         |Average_Rating|Total_number_of_ratings|\n",
      "+-------+-----------------------------------+--------------+-----------------------+\n",
      "|50     |Usual Suspects, The (1995)         |4.37          |201                    |\n",
      "|905    |It Happened One Night (1934)       |4.38          |25                     |\n",
      "|1221   |Godfather: Part II, The (1974)     |4.39          |135                    |\n",
      "|7502   |Band of Brothers (2001)            |4.39          |22                     |\n",
      "|913    |Maltese Falcon, The (1941)         |4.39          |62                     |\n",
      "|2064   |Roger & Me (1989)                  |4.39          |42                     |\n",
      "|2203   |Shadow of a Doubt (1943)           |4.40          |10                     |\n",
      "|1066   |Shall We Dance (1937)              |4.41          |11                     |\n",
      "|3035   |Mister Roberts (1955)              |4.41          |17                     |\n",
      "|969    |African Queen, The (1951)          |4.42          |50                     |\n",
      "|1217   |Ran (1985)                         |4.42          |26                     |\n",
      "|926    |All About Eve (1950)               |4.43          |38                     |\n",
      "|1147   |When We Were Kings (1996)          |4.44          |16                     |\n",
      "|1945   |On the Waterfront (1954)           |4.45          |29                     |\n",
      "|8132   |Gladiator (1992)                   |4.45          |11                     |\n",
      "|1948   |Tom Jones (1963)                   |4.46          |12                     |\n",
      "|318    |Shawshank Redemption, The (1994)   |4.49          |311                    |\n",
      "|858    |Godfather, The (1972)              |4.49          |200                    |\n",
      "|3469   |Inherit the Wind (1960)            |4.54          |12                     |\n",
      "|1939   |Best Years of Our Lives, The (1946)|4.64          |11                     |\n",
      "+-------+-----------------------------------+--------------+-----------------------+\n",
      "\n"
     ]
    }
   ],
   "source": [
    "final_result.show(truncate=False)"
   ],
   "metadata": {
    "collapsed": false,
    "pycharm": {
     "name": "#%%\n"
    }
   }
  },
  {
   "cell_type": "markdown",
   "source": [
    "#### Storing Data into a parquet file"
   ],
   "metadata": {
    "collapsed": false
   }
  },
  {
   "cell_type": "code",
   "execution_count": 86,
   "outputs": [],
   "source": [
    "final_result.toPandas().to_parquet(\"./data/top20_movies.parquet\")"
   ],
   "metadata": {
    "collapsed": false,
    "pycharm": {
     "name": "#%%\n"
    }
   }
  },
  {
   "cell_type": "markdown",
   "source": [
    "#### Create dataframe from a parquet file"
   ],
   "metadata": {
    "collapsed": false
   }
  },
  {
   "cell_type": "markdown",
   "source": [
    "#### Ending Session"
   ],
   "metadata": {
    "collapsed": false
   }
  },
  {
   "cell_type": "code",
   "execution_count": 87,
   "outputs": [],
   "source": [
    "popular_20 = spark.read.parquet(\"./data/top20_movies.parquet\")"
   ],
   "metadata": {
    "collapsed": false,
    "pycharm": {
     "name": "#%%\n"
    }
   }
  },
  {
   "cell_type": "code",
   "execution_count": 88,
   "outputs": [
    {
     "name": "stdout",
     "output_type": "stream",
     "text": [
      "+-------+-----------------------------------+--------------+-----------------------+\n",
      "|movieId|Movie_Name                         |Average_Rating|Total_number_of_ratings|\n",
      "+-------+-----------------------------------+--------------+-----------------------+\n",
      "|50     |Usual Suspects, The (1995)         |4.37          |201                    |\n",
      "|905    |It Happened One Night (1934)       |4.38          |25                     |\n",
      "|1221   |Godfather: Part II, The (1974)     |4.39          |135                    |\n",
      "|7502   |Band of Brothers (2001)            |4.39          |22                     |\n",
      "|913    |Maltese Falcon, The (1941)         |4.39          |62                     |\n",
      "|2064   |Roger & Me (1989)                  |4.39          |42                     |\n",
      "|2203   |Shadow of a Doubt (1943)           |4.40          |10                     |\n",
      "|1066   |Shall We Dance (1937)              |4.41          |11                     |\n",
      "|3035   |Mister Roberts (1955)              |4.41          |17                     |\n",
      "|969    |African Queen, The (1951)          |4.42          |50                     |\n",
      "|1217   |Ran (1985)                         |4.42          |26                     |\n",
      "|926    |All About Eve (1950)               |4.43          |38                     |\n",
      "|1147   |When We Were Kings (1996)          |4.44          |16                     |\n",
      "|1945   |On the Waterfront (1954)           |4.45          |29                     |\n",
      "|8132   |Gladiator (1992)                   |4.45          |11                     |\n",
      "|1948   |Tom Jones (1963)                   |4.46          |12                     |\n",
      "|318    |Shawshank Redemption, The (1994)   |4.49          |311                    |\n",
      "|858    |Godfather, The (1972)              |4.49          |200                    |\n",
      "|3469   |Inherit the Wind (1960)            |4.54          |12                     |\n",
      "|1939   |Best Years of Our Lives, The (1946)|4.64          |11                     |\n",
      "+-------+-----------------------------------+--------------+-----------------------+\n",
      "\n"
     ]
    }
   ],
   "source": [
    "popular_20.show(truncate=False)"
   ],
   "metadata": {
    "collapsed": false,
    "pycharm": {
     "name": "#%%\n"
    }
   }
  },
  {
   "cell_type": "markdown",
   "source": [
    "#### Store popular_20 into JSON"
   ],
   "metadata": {
    "collapsed": false
   }
  },
  {
   "cell_type": "code",
   "execution_count": 89,
   "outputs": [
    {
     "data": {
      "text/plain": "['{\"movieId\":50,\"Movie_Name\":\"Usual Suspects, The (1995)\",\"Average_Rating\":\"4.37\",\"Total_number_of_ratings\":201}',\n '{\"movieId\":905,\"Movie_Name\":\"It Happened One Night (1934)\",\"Average_Rating\":\"4.38\",\"Total_number_of_ratings\":25}',\n '{\"movieId\":1221,\"Movie_Name\":\"Godfather: Part II, The (1974)\",\"Average_Rating\":\"4.39\",\"Total_number_of_ratings\":135}',\n '{\"movieId\":7502,\"Movie_Name\":\"Band of Brothers (2001)\",\"Average_Rating\":\"4.39\",\"Total_number_of_ratings\":22}',\n '{\"movieId\":913,\"Movie_Name\":\"Maltese Falcon, The (1941)\",\"Average_Rating\":\"4.39\",\"Total_number_of_ratings\":62}',\n '{\"movieId\":2064,\"Movie_Name\":\"Roger & Me (1989)\",\"Average_Rating\":\"4.39\",\"Total_number_of_ratings\":42}',\n '{\"movieId\":2203,\"Movie_Name\":\"Shadow of a Doubt (1943)\",\"Average_Rating\":\"4.40\",\"Total_number_of_ratings\":10}',\n '{\"movieId\":1066,\"Movie_Name\":\"Shall We Dance (1937)\",\"Average_Rating\":\"4.41\",\"Total_number_of_ratings\":11}',\n '{\"movieId\":3035,\"Movie_Name\":\"Mister Roberts (1955)\",\"Average_Rating\":\"4.41\",\"Total_number_of_ratings\":17}',\n '{\"movieId\":969,\"Movie_Name\":\"African Queen, The (1951)\",\"Average_Rating\":\"4.42\",\"Total_number_of_ratings\":50}',\n '{\"movieId\":1217,\"Movie_Name\":\"Ran (1985)\",\"Average_Rating\":\"4.42\",\"Total_number_of_ratings\":26}',\n '{\"movieId\":926,\"Movie_Name\":\"All About Eve (1950)\",\"Average_Rating\":\"4.43\",\"Total_number_of_ratings\":38}',\n '{\"movieId\":1147,\"Movie_Name\":\"When We Were Kings (1996)\",\"Average_Rating\":\"4.44\",\"Total_number_of_ratings\":16}',\n '{\"movieId\":1945,\"Movie_Name\":\"On the Waterfront (1954)\",\"Average_Rating\":\"4.45\",\"Total_number_of_ratings\":29}',\n '{\"movieId\":8132,\"Movie_Name\":\"Gladiator (1992)\",\"Average_Rating\":\"4.45\",\"Total_number_of_ratings\":11}',\n '{\"movieId\":1948,\"Movie_Name\":\"Tom Jones (1963)\",\"Average_Rating\":\"4.46\",\"Total_number_of_ratings\":12}',\n '{\"movieId\":318,\"Movie_Name\":\"Shawshank Redemption, The (1994)\",\"Average_Rating\":\"4.49\",\"Total_number_of_ratings\":311}',\n '{\"movieId\":858,\"Movie_Name\":\"Godfather, The (1972)\",\"Average_Rating\":\"4.49\",\"Total_number_of_ratings\":200}',\n '{\"movieId\":3469,\"Movie_Name\":\"Inherit the Wind (1960)\",\"Average_Rating\":\"4.54\",\"Total_number_of_ratings\":12}',\n '{\"movieId\":1939,\"Movie_Name\":\"Best Years of Our Lives, The (1946)\",\"Average_Rating\":\"4.64\",\"Total_number_of_ratings\":11}']"
     },
     "execution_count": 89,
     "metadata": {},
     "output_type": "execute_result"
    }
   ],
   "source": [
    "popular_20.toJSON().collect()"
   ],
   "metadata": {
    "collapsed": false,
    "pycharm": {
     "name": "#%%\n"
    }
   }
  },
  {
   "cell_type": "code",
   "execution_count": 90,
   "outputs": [],
   "source": [
    "# popular_20.coalesce(1).write.format('json').save('./data/top20movies')\n",
    "popular_20.toPandas().to_json('./data/top20_movies.json',orient='records', force_ascii=False, lines=True)"
   ],
   "metadata": {
    "collapsed": false,
    "pycharm": {
     "name": "#%%\n"
    }
   }
  },
  {
   "cell_type": "markdown",
   "source": [
    "#### Ending Session"
   ],
   "metadata": {
    "collapsed": false
   }
  },
  {
   "cell_type": "code",
   "execution_count": 5,
   "outputs": [],
   "source": [
    "spark.stop()"
   ],
   "metadata": {
    "collapsed": false,
    "pycharm": {
     "name": "#%%\n"
    }
   }
  }
 ],
 "metadata": {
  "kernelspec": {
   "display_name": "Python 3",
   "language": "python",
   "name": "python3"
  },
  "language_info": {
   "codemirror_mode": {
    "name": "ipython",
    "version": 2
   },
   "file_extension": ".py",
   "mimetype": "text/x-python",
   "name": "python",
   "nbconvert_exporter": "python",
   "pygments_lexer": "ipython2",
   "version": "2.7.6"
  }
 },
 "nbformat": 4,
 "nbformat_minor": 0
}