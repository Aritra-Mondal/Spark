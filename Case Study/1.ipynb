{
 "cells": [
  {
   "cell_type": "markdown",
   "source": [
    "#### Importing Libraries"
   ],
   "metadata": {
    "collapsed": false
   }
  },
  {
   "cell_type": "code",
   "execution_count": 2,
   "outputs": [],
   "source": [
    "from pyspark.sql import SparkSession\n",
    "from pyspark.sql.types import StructType, StructField, StringType"
   ],
   "metadata": {
    "collapsed": false,
    "pycharm": {
     "name": "#%%\n"
    }
   }
  },
  {
   "cell_type": "markdown",
   "source": [
    "#### Creating SparkSession"
   ],
   "metadata": {
    "collapsed": false
   }
  },
  {
   "cell_type": "code",
   "execution_count": 3,
   "outputs": [],
   "source": [
    "spark = SparkSession.builder.appName(\"first\").master(\"local[*]\").getOrCreate()"
   ],
   "metadata": {
    "collapsed": false,
    "pycharm": {
     "name": "#%%\n"
    }
   }
  },
  {
   "cell_type": "code",
   "execution_count": 6,
   "outputs": [],
   "source": [
    "schema = StructType([\n",
    "  # Define a StructField for each field\n",
    "  StructField('STATUS', StringType(), False),\n",
    "  StructField('TECH', StringType(), False),\n",
    "  StructField('DATE', StringType(), False)\n",
    "])\n",
    "\n",
    "data = spark.read.csv(\"./data/server_log.tsv\", sep='\\t', schema=schema)"
   ],
   "metadata": {
    "collapsed": false,
    "pycharm": {
     "name": "#%%\n"
    }
   }
  },
  {
   "cell_type": "code",
   "execution_count": 10,
   "outputs": [
    {
     "name": "stdout",
     "output_type": "stream",
     "text": [
      "+------+--------+----------+\n",
      "|STATUS|    TECH|      DATE|\n",
      "+------+--------+----------+\n",
      "|ERROR:|     php|21/05/2015|\n",
      "| DONE:|     php|11/01/2016|\n",
      "|ERROR:|RailsApp|05/08/2015|\n",
      "|ERROR:|     php|19/05/2015|\n",
      "| DONE:|   mysql|23/01/2016|\n",
      "|ERROR:|     php|13/02/2016|\n",
      "|ERROR:|     php|22/11/2014|\n",
      "|ERROR:|RailsApp|25/12/2015|\n",
      "|ERROR:|   mysql|18/03/2015|\n",
      "| DONE:|     php|22/08/2015|\n",
      "|ERROR:|RailsApp|06/05/2015|\n",
      "|ERROR:|     php|09/03/2015|\n",
      "| DONE:|   mysql|28/06/2015|\n",
      "+------+--------+----------+\n",
      "\n"
     ]
    }
   ],
   "source": [
    "data.show()"
   ],
   "metadata": {
    "collapsed": false,
    "pycharm": {
     "name": "#%%\n"
    }
   }
  },
  {
   "cell_type": "code",
   "execution_count": 18,
   "outputs": [],
   "source": [
    "ERROR_DATA = data.filter(data.STATUS == \"ERROR:\")"
   ],
   "metadata": {
    "collapsed": false,
    "pycharm": {
     "name": "#%%\n"
    }
   }
  },
  {
   "cell_type": "code",
   "execution_count": 19,
   "outputs": [
    {
     "name": "stdout",
     "output_type": "stream",
     "text": [
      "+------+--------+----------+\n",
      "|STATUS|    TECH|      DATE|\n",
      "+------+--------+----------+\n",
      "|ERROR:|     php|21/05/2015|\n",
      "|ERROR:|RailsApp|05/08/2015|\n",
      "|ERROR:|     php|19/05/2015|\n",
      "|ERROR:|     php|13/02/2016|\n",
      "|ERROR:|     php|22/11/2014|\n",
      "|ERROR:|RailsApp|25/12/2015|\n",
      "|ERROR:|   mysql|18/03/2015|\n",
      "|ERROR:|RailsApp|06/05/2015|\n",
      "|ERROR:|     php|09/03/2015|\n",
      "+------+--------+----------+\n",
      "\n"
     ]
    }
   ],
   "source": [
    "ERROR_DATA.show()"
   ],
   "metadata": {
    "collapsed": false,
    "pycharm": {
     "name": "#%%\n"
    }
   }
  },
  {
   "cell_type": "code",
   "execution_count": 26,
   "outputs": [],
   "source": [
    "ERRORS = ERROR_DATA.groupBy(\"TECH\").count().withColumnRenamed(\"count\", \"No. of Errors\")"
   ],
   "metadata": {
    "collapsed": false,
    "pycharm": {
     "name": "#%%\n"
    }
   }
  },
  {
   "cell_type": "code",
   "execution_count": 27,
   "outputs": [
    {
     "name": "stdout",
     "output_type": "stream",
     "text": [
      "+--------+-------------+\n",
      "|    TECH|No. of Errors|\n",
      "+--------+-------------+\n",
      "|   mysql|            1|\n",
      "|RailsApp|            3|\n",
      "|     php|            5|\n",
      "+--------+-------------+\n",
      "\n"
     ]
    }
   ],
   "source": [
    "ERRORS.show()"
   ],
   "metadata": {
    "collapsed": false,
    "pycharm": {
     "name": "#%%\n"
    }
   }
  },
  {
   "cell_type": "markdown",
   "source": [
    "#### using RDD"
   ],
   "metadata": {
    "collapsed": false
   }
  },
  {
   "cell_type": "code",
   "execution_count": 7,
   "outputs": [],
   "source": [
    "rdd = data.rdd"
   ],
   "metadata": {
    "collapsed": false,
    "pycharm": {
     "name": "#%%\n"
    }
   }
  },
  {
   "cell_type": "code",
   "execution_count": 8,
   "outputs": [
    {
     "data": {
      "text/plain": "[Row(STATUS='ERROR:', TECH='php', DATE='21/05/2015'),\n Row(STATUS='DONE:', TECH='php', DATE='11/01/2016'),\n Row(STATUS='ERROR:', TECH='RailsApp', DATE='05/08/2015'),\n Row(STATUS='ERROR:', TECH='php', DATE='19/05/2015'),\n Row(STATUS='DONE:', TECH='mysql', DATE='23/01/2016'),\n Row(STATUS='ERROR:', TECH='php', DATE='13/02/2016'),\n Row(STATUS='ERROR:', TECH='php', DATE='22/11/2014'),\n Row(STATUS='ERROR:', TECH='RailsApp', DATE='25/12/2015'),\n Row(STATUS='ERROR:', TECH='mysql', DATE='18/03/2015'),\n Row(STATUS='DONE:', TECH='php', DATE='22/08/2015'),\n Row(STATUS='ERROR:', TECH='RailsApp', DATE='06/05/2015'),\n Row(STATUS='ERROR:', TECH='php', DATE='09/03/2015'),\n Row(STATUS='DONE:', TECH='mysql', DATE='28/06/2015')]"
     },
     "execution_count": 8,
     "metadata": {},
     "output_type": "execute_result"
    }
   ],
   "source": [
    "rdd.collect()"
   ],
   "metadata": {
    "collapsed": false,
    "pycharm": {
     "name": "#%%\n"
    }
   }
  },
  {
   "cell_type": "code",
   "execution_count": 11,
   "outputs": [],
   "source": [
    "errorData = rdd.filter(lambda row :row[\"STATUS\"] == \"ERROR:\")"
   ],
   "metadata": {
    "collapsed": false,
    "pycharm": {
     "name": "#%%\n"
    }
   }
  },
  {
   "cell_type": "code",
   "execution_count": 12,
   "outputs": [
    {
     "data": {
      "text/plain": "[Row(STATUS='ERROR:', TECH='php', DATE='21/05/2015'),\n Row(STATUS='ERROR:', TECH='RailsApp', DATE='05/08/2015'),\n Row(STATUS='ERROR:', TECH='php', DATE='19/05/2015'),\n Row(STATUS='ERROR:', TECH='php', DATE='13/02/2016'),\n Row(STATUS='ERROR:', TECH='php', DATE='22/11/2014'),\n Row(STATUS='ERROR:', TECH='RailsApp', DATE='25/12/2015'),\n Row(STATUS='ERROR:', TECH='mysql', DATE='18/03/2015'),\n Row(STATUS='ERROR:', TECH='RailsApp', DATE='06/05/2015'),\n Row(STATUS='ERROR:', TECH='php', DATE='09/03/2015')]"
     },
     "execution_count": 12,
     "metadata": {},
     "output_type": "execute_result"
    }
   ],
   "source": [
    "errorData.collect()"
   ],
   "metadata": {
    "collapsed": false,
    "pycharm": {
     "name": "#%%\n"
    }
   }
  },
  {
   "cell_type": "code",
   "execution_count": 18,
   "outputs": [],
   "source": [
    "grpByError = errorData.groupBy(lambda row : row[\"TECH\"])"
   ],
   "metadata": {
    "collapsed": false,
    "pycharm": {
     "name": "#%%\n"
    }
   }
  },
  {
   "cell_type": "code",
   "execution_count": 21,
   "outputs": [
    {
     "data": {
      "text/plain": "[('php', <pyspark.resultiterable.ResultIterable at 0x21c32bae880>),\n ('RailsApp', <pyspark.resultiterable.ResultIterable at 0x21c32ca9880>),\n ('mysql', <pyspark.resultiterable.ResultIterable at 0x21c32ca9580>)]"
     },
     "execution_count": 21,
     "metadata": {},
     "output_type": "execute_result"
    }
   ],
   "source": [
    "grpByError.collect()"
   ],
   "metadata": {
    "collapsed": false,
    "pycharm": {
     "name": "#%%\n"
    }
   }
  },
  {
   "cell_type": "code",
   "execution_count": 22,
   "outputs": [],
   "source": [
    "countErrors = grpByError.map(lambda x : (x[0], len(list(x[1]))))"
   ],
   "metadata": {
    "collapsed": false,
    "pycharm": {
     "name": "#%%\n"
    }
   }
  },
  {
   "cell_type": "code",
   "execution_count": 24,
   "outputs": [
    {
     "data": {
      "text/plain": "[('php', 5), ('RailsApp', 3), ('mysql', 1)]"
     },
     "execution_count": 24,
     "metadata": {},
     "output_type": "execute_result"
    }
   ],
   "source": [
    "countErrors.collect()"
   ],
   "metadata": {
    "collapsed": false,
    "pycharm": {
     "name": "#%%\n"
    }
   }
  },
  {
   "cell_type": "code",
   "execution_count": 25,
   "outputs": [],
   "source": [
    "spark.stop()"
   ],
   "metadata": {
    "collapsed": false,
    "pycharm": {
     "name": "#%%\n"
    }
   }
  },
  {
   "cell_type": "code",
   "execution_count": null,
   "outputs": [],
   "source": [],
   "metadata": {
    "collapsed": false,
    "pycharm": {
     "name": "#%%\n"
    }
   }
  }
 ],
 "metadata": {
  "kernelspec": {
   "display_name": "Python 3",
   "language": "python",
   "name": "python3"
  },
  "language_info": {
   "codemirror_mode": {
    "name": "ipython",
    "version": 2
   },
   "file_extension": ".py",
   "mimetype": "text/x-python",
   "name": "python",
   "nbconvert_exporter": "python",
   "pygments_lexer": "ipython2",
   "version": "2.7.6"
  }
 },
 "nbformat": 4,
 "nbformat_minor": 0
}