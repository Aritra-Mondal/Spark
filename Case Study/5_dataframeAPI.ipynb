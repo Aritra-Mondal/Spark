{
 "cells": [
  {
   "cell_type": "markdown",
   "source": [
    "### Importing Libraries"
   ],
   "metadata": {
    "collapsed": false
   }
  },
  {
   "cell_type": "code",
   "execution_count": 23,
   "metadata": {
    "collapsed": true
   },
   "outputs": [],
   "source": [
    "from pyspark.sql import SparkSession\n",
    "from pyspark.sql.functions import format_number"
   ]
  },
  {
   "cell_type": "markdown",
   "source": [
    "### Starting Spark Session and Load Data"
   ],
   "metadata": {
    "collapsed": false
   }
  },
  {
   "cell_type": "code",
   "execution_count": 2,
   "outputs": [],
   "source": [
    "spark = SparkSession.builder.appName(\"Top movies\").master(\"local[*]\").getOrCreate()"
   ],
   "metadata": {
    "collapsed": false,
    "pycharm": {
     "name": "#%%\n"
    }
   }
  },
  {
   "cell_type": "code",
   "execution_count": 3,
   "outputs": [],
   "source": [
    "movies = spark.read.csv(\"./data/movies.csv\", inferSchema=True, header=True)\n",
    "ratings = spark.read.csv(\"./data/ratings.csv\", inferSchema=True, header=True)"
   ],
   "metadata": {
    "collapsed": false,
    "pycharm": {
     "name": "#%%\n"
    }
   }
  },
  {
   "cell_type": "code",
   "execution_count": 132,
   "outputs": [
    {
     "name": "stdout",
     "output_type": "stream",
     "text": [
      "root\n",
      " |-- movieId: integer (nullable = true)\n",
      " |-- title: string (nullable = true)\n",
      " |-- genres: string (nullable = true)\n",
      "\n"
     ]
    }
   ],
   "source": [
    "movies.printSchema()"
   ],
   "metadata": {
    "collapsed": false,
    "pycharm": {
     "name": "#%%\n"
    }
   }
  },
  {
   "cell_type": "code",
   "execution_count": 134,
   "outputs": [
    {
     "name": "stdout",
     "output_type": "stream",
     "text": [
      "root\n",
      " |-- userId: integer (nullable = true)\n",
      " |-- movieId: integer (nullable = true)\n",
      " |-- rating: double (nullable = true)\n",
      " |-- timestamp: integer (nullable = true)\n",
      "\n"
     ]
    }
   ],
   "source": [
    "ratings.printSchema()"
   ],
   "metadata": {
    "collapsed": false,
    "pycharm": {
     "name": "#%%\n"
    }
   }
  },
  {
   "cell_type": "code",
   "execution_count": 4,
   "outputs": [
    {
     "name": "stdout",
     "output_type": "stream",
     "text": [
      "+-------+--------------------+--------------------+\n",
      "|movieId|               title|              genres|\n",
      "+-------+--------------------+--------------------+\n",
      "|      1|    Toy Story (1995)|Adventure|Animati...|\n",
      "|      2|      Jumanji (1995)|Adventure|Childre...|\n",
      "|      3|Grumpier Old Men ...|      Comedy|Romance|\n",
      "|      4|Waiting to Exhale...|Comedy|Drama|Romance|\n",
      "|      5|Father of the Bri...|              Comedy|\n",
      "|      6|         Heat (1995)|Action|Crime|Thri...|\n",
      "|      7|      Sabrina (1995)|      Comedy|Romance|\n",
      "|      8| Tom and Huck (1995)|  Adventure|Children|\n",
      "|      9| Sudden Death (1995)|              Action|\n",
      "|     10|    GoldenEye (1995)|Action|Adventure|...|\n",
      "|     11|American Presiden...|Comedy|Drama|Romance|\n",
      "|     12|Dracula: Dead and...|       Comedy|Horror|\n",
      "|     13|        Balto (1995)|Adventure|Animati...|\n",
      "|     14|        Nixon (1995)|               Drama|\n",
      "|     15|Cutthroat Island ...|Action|Adventure|...|\n",
      "|     16|       Casino (1995)|         Crime|Drama|\n",
      "|     17|Sense and Sensibi...|       Drama|Romance|\n",
      "|     18|   Four Rooms (1995)|              Comedy|\n",
      "|     19|Ace Ventura: When...|              Comedy|\n",
      "|     20|  Money Train (1995)|Action|Comedy|Cri...|\n",
      "+-------+--------------------+--------------------+\n",
      "only showing top 20 rows\n",
      "\n"
     ]
    }
   ],
   "source": [
    "movies.show()"
   ],
   "metadata": {
    "collapsed": false,
    "pycharm": {
     "name": "#%%\n"
    }
   }
  },
  {
   "cell_type": "code",
   "execution_count": 5,
   "outputs": [
    {
     "name": "stdout",
     "output_type": "stream",
     "text": [
      "+------+-------+------+----------+\n",
      "|userId|movieId|rating| timestamp|\n",
      "+------+-------+------+----------+\n",
      "|     1|     31|   2.5|1260759144|\n",
      "|     1|   1029|   3.0|1260759179|\n",
      "|     1|   1061|   3.0|1260759182|\n",
      "|     1|   1129|   2.0|1260759185|\n",
      "|     1|   1172|   4.0|1260759205|\n",
      "|     1|   1263|   2.0|1260759151|\n",
      "|     1|   1287|   2.0|1260759187|\n",
      "|     1|   1293|   2.0|1260759148|\n",
      "|     1|   1339|   3.5|1260759125|\n",
      "|     1|   1343|   2.0|1260759131|\n",
      "|     1|   1371|   2.5|1260759135|\n",
      "|     1|   1405|   1.0|1260759203|\n",
      "|     1|   1953|   4.0|1260759191|\n",
      "|     1|   2105|   4.0|1260759139|\n",
      "|     1|   2150|   3.0|1260759194|\n",
      "|     1|   2193|   2.0|1260759198|\n",
      "|     1|   2294|   2.0|1260759108|\n",
      "|     1|   2455|   2.5|1260759113|\n",
      "|     1|   2968|   1.0|1260759200|\n",
      "|     1|   3671|   3.0|1260759117|\n",
      "+------+-------+------+----------+\n",
      "only showing top 20 rows\n",
      "\n"
     ]
    }
   ],
   "source": [
    "ratings.show()"
   ],
   "metadata": {
    "collapsed": false,
    "pycharm": {
     "name": "#%%\n"
    }
   }
  },
  {
   "cell_type": "code",
   "execution_count": 130,
   "outputs": [
    {
     "data": {
      "text/plain": "100004"
     },
     "execution_count": 130,
     "metadata": {},
     "output_type": "execute_result"
    }
   ],
   "source": [
    "ratings.count()"
   ],
   "metadata": {
    "collapsed": false,
    "pycharm": {
     "name": "#%%\n"
    }
   }
  },
  {
   "cell_type": "markdown",
   "source": [
    "# Filter Movies That Received at least 10 user reviews"
   ],
   "metadata": {
    "collapsed": false
   }
  },
  {
   "cell_type": "code",
   "execution_count": 10,
   "outputs": [],
   "source": [
    "reviewCounts = ratings.groupBy(ratings.movieId).count().withColumnRenamed(\"count\",\"reviewCounts\")"
   ],
   "metadata": {
    "collapsed": false,
    "pycharm": {
     "name": "#%%\n"
    }
   }
  },
  {
   "cell_type": "code",
   "execution_count": 11,
   "outputs": [
    {
     "name": "stdout",
     "output_type": "stream",
     "text": [
      "+-------+------------+\n",
      "|movieId|reviewCounts|\n",
      "+-------+------------+\n",
      "|   1580|         190|\n",
      "|   2659|           3|\n",
      "|   3794|           5|\n",
      "|   3175|          65|\n",
      "|    471|          49|\n",
      "|   1088|          53|\n",
      "|   1342|          17|\n",
      "|   1645|          60|\n",
      "|   2366|          23|\n",
      "|   6620|          17|\n",
      "|   8638|          17|\n",
      "|  96488|           4|\n",
      "| 160563|           2|\n",
      "|   7982|           3|\n",
      "|   1238|          17|\n",
      "|   1959|          30|\n",
      "|    463|           7|\n",
      "|   2122|          11|\n",
      "|   1591|          15|\n",
      "|   5518|           1|\n",
      "+-------+------------+\n",
      "only showing top 20 rows\n",
      "\n"
     ]
    }
   ],
   "source": [
    "reviewCounts.show()"
   ],
   "metadata": {
    "collapsed": false,
    "pycharm": {
     "name": "#%%\n"
    }
   }
  },
  {
   "cell_type": "code",
   "execution_count": 12,
   "outputs": [],
   "source": [
    "reviewCountsGRE10 = reviewCounts.filter(reviewCounts[\"reviewCounts\"] >= 10)"
   ],
   "metadata": {
    "collapsed": false,
    "pycharm": {
     "name": "#%%\n"
    }
   }
  },
  {
   "cell_type": "code",
   "execution_count": 50,
   "outputs": [
    {
     "name": "stdout",
     "output_type": "stream",
     "text": [
      "+-------+------------+\n",
      "|movieId|reviewCounts|\n",
      "+-------+------------+\n",
      "|   1580|         190|\n",
      "|   3175|          65|\n",
      "|    471|          49|\n",
      "|   1088|          53|\n",
      "|   1342|          17|\n",
      "|   1645|          60|\n",
      "|   2366|          23|\n",
      "|   6620|          17|\n",
      "|   8638|          17|\n",
      "|   1238|          17|\n",
      "|   1959|          30|\n",
      "|   2122|          11|\n",
      "|   1591|          15|\n",
      "|  44022|          20|\n",
      "|   2142|          12|\n",
      "|   2866|          10|\n",
      "|  68135|          11|\n",
      "|   3997|          10|\n",
      "|   1721|         164|\n",
      "|    858|         200|\n",
      "+-------+------------+\n",
      "only showing top 20 rows\n",
      "\n"
     ]
    }
   ],
   "source": [
    "reviewCountsGRE10.show()"
   ],
   "metadata": {
    "collapsed": false,
    "pycharm": {
     "name": "#%%\n"
    }
   }
  },
  {
   "cell_type": "code",
   "execution_count": 124,
   "outputs": [
    {
     "data": {
      "text/plain": "2245"
     },
     "execution_count": 124,
     "metadata": {},
     "output_type": "execute_result"
    }
   ],
   "source": [
    "reviewCountsGRE10.count()"
   ],
   "metadata": {
    "collapsed": false,
    "pycharm": {
     "name": "#%%\n"
    }
   }
  },
  {
   "cell_type": "markdown",
   "source": [
    "### Join reviewCountsGRE10 with ratings data"
   ],
   "metadata": {
    "collapsed": false
   }
  },
  {
   "cell_type": "code",
   "execution_count": 72,
   "outputs": [],
   "source": [
    "df = reviewCountsGRE10.join(ratings, ratings[\"movieId\"] == reviewCountsGRE10[\"movieId\"])"
   ],
   "metadata": {
    "collapsed": false,
    "pycharm": {
     "name": "#%%\n"
    }
   }
  },
  {
   "cell_type": "code",
   "execution_count": 73,
   "outputs": [
    {
     "name": "stdout",
     "output_type": "stream",
     "text": [
      "+-------+------------+------+-------+------+----------+\n",
      "|movieId|reviewCounts|userId|movieId|rating| timestamp|\n",
      "+-------+------------+------+-------+------+----------+\n",
      "|     31|          42|     1|     31|   2.5|1260759144|\n",
      "|   1029|          42|     1|   1029|   3.0|1260759179|\n",
      "|   1061|          33|     1|   1061|   3.0|1260759182|\n",
      "|   1129|          48|     1|   1129|   2.0|1260759185|\n",
      "|   1172|          46|     1|   1172|   4.0|1260759205|\n",
      "|   1263|          48|     1|   1263|   2.0|1260759151|\n",
      "|   1287|          46|     1|   1287|   2.0|1260759187|\n",
      "|   1293|          46|     1|   1293|   2.0|1260759148|\n",
      "|   1339|          52|     1|   1339|   3.5|1260759125|\n",
      "|   1343|          39|     1|   1343|   2.0|1260759131|\n",
      "|   1371|          47|     1|   1371|   2.5|1260759135|\n",
      "|   1405|          46|     1|   1405|   1.0|1260759203|\n",
      "|   1953|          46|     1|   1953|   4.0|1260759191|\n",
      "|   2105|          47|     1|   2105|   4.0|1260759139|\n",
      "|   2150|          36|     1|   2150|   3.0|1260759194|\n",
      "|   2193|          42|     1|   2193|   2.0|1260759198|\n",
      "|   2294|          53|     1|   2294|   2.0|1260759108|\n",
      "|   2455|          47|     1|   2455|   2.5|1260759113|\n",
      "|   2968|          43|     1|   2968|   1.0|1260759200|\n",
      "|   3671|          62|     1|   3671|   3.0|1260759117|\n",
      "+-------+------------+------+-------+------+----------+\n",
      "only showing top 20 rows\n",
      "\n"
     ]
    }
   ],
   "source": [
    "\n",
    "df.show()"
   ],
   "metadata": {
    "collapsed": false,
    "pycharm": {
     "name": "#%%\n"
    }
   }
  },
  {
   "cell_type": "code",
   "execution_count": 74,
   "outputs": [],
   "source": [
    "repeated_columns = [c for c in reviewCountsGRE10.columns if c in ratings.columns]\n",
    "\n",
    "for col in repeated_columns:\n",
    "    df = df.drop(reviewCountsGRE10[col])"
   ],
   "metadata": {
    "collapsed": false,
    "pycharm": {
     "name": "#%%\n"
    }
   }
  },
  {
   "cell_type": "code",
   "execution_count": 77,
   "outputs": [
    {
     "name": "stdout",
     "output_type": "stream",
     "text": [
      "+------------+------+-------+------+----------+\n",
      "|reviewCounts|userId|movieId|rating| timestamp|\n",
      "+------------+------+-------+------+----------+\n",
      "|          42|     1|     31|   2.5|1260759144|\n",
      "|          42|     1|   1029|   3.0|1260759179|\n",
      "|          33|     1|   1061|   3.0|1260759182|\n",
      "|          48|     1|   1129|   2.0|1260759185|\n",
      "|          46|     1|   1172|   4.0|1260759205|\n",
      "|          48|     1|   1263|   2.0|1260759151|\n",
      "|          46|     1|   1287|   2.0|1260759187|\n",
      "|          46|     1|   1293|   2.0|1260759148|\n",
      "|          52|     1|   1339|   3.5|1260759125|\n",
      "|          39|     1|   1343|   2.0|1260759131|\n",
      "|          47|     1|   1371|   2.5|1260759135|\n",
      "|          46|     1|   1405|   1.0|1260759203|\n",
      "|          46|     1|   1953|   4.0|1260759191|\n",
      "|          47|     1|   2105|   4.0|1260759139|\n",
      "|          36|     1|   2150|   3.0|1260759194|\n",
      "|          42|     1|   2193|   2.0|1260759198|\n",
      "|          53|     1|   2294|   2.0|1260759108|\n",
      "|          47|     1|   2455|   2.5|1260759113|\n",
      "|          43|     1|   2968|   1.0|1260759200|\n",
      "|          62|     1|   3671|   3.0|1260759117|\n",
      "+------------+------+-------+------+----------+\n",
      "only showing top 20 rows\n",
      "\n"
     ]
    }
   ],
   "source": [
    "df.show()"
   ],
   "metadata": {
    "collapsed": false,
    "pycharm": {
     "name": "#%%\n"
    }
   }
  },
  {
   "cell_type": "code",
   "execution_count": 125,
   "outputs": [
    {
     "data": {
      "text/plain": "81915"
     },
     "execution_count": 125,
     "metadata": {},
     "output_type": "execute_result"
    }
   ],
   "source": [
    "df.count()"
   ],
   "metadata": {
    "collapsed": false,
    "pycharm": {
     "name": "#%%\n"
    }
   }
  },
  {
   "cell_type": "markdown",
   "source": [
    "## TOP 20 movies with highest average ratings"
   ],
   "metadata": {
    "collapsed": false
   }
  },
  {
   "cell_type": "code",
   "execution_count": 80,
   "outputs": [],
   "source": [
    "avgRatings = df.groupBy(df.movieId).avg('rating').withColumnRenamed(\"avg(rating)\", \"AvgRating\")"
   ],
   "metadata": {
    "collapsed": false,
    "pycharm": {
     "name": "#%%\n"
    }
   }
  },
  {
   "cell_type": "code",
   "execution_count": 105,
   "outputs": [],
   "source": [
    "avgRatings_sorted = avgRatings.sort(avgRatings[\"AvgRating\"].desc())"
   ],
   "metadata": {
    "collapsed": false,
    "pycharm": {
     "name": "#%%\n"
    }
   }
  },
  {
   "cell_type": "code",
   "execution_count": 107,
   "outputs": [
    {
     "name": "stdout",
     "output_type": "stream",
     "text": [
      "+-------+-----------------+\n",
      "|movieId|        AvgRating|\n",
      "+-------+-----------------+\n",
      "|   1939|4.636363636363637|\n",
      "|   3469|4.541666666666667|\n",
      "|    858|           4.4875|\n",
      "|    318|4.487138263665595|\n",
      "|   1948|4.458333333333333|\n",
      "|   8132|4.454545454545454|\n",
      "|   1945|4.448275862068965|\n",
      "|   1147|           4.4375|\n",
      "|    926|4.434210526315789|\n",
      "|   1217|4.423076923076923|\n",
      "|    969|             4.42|\n",
      "|   3035|4.411764705882353|\n",
      "|   1066|4.409090909090909|\n",
      "|   2203|              4.4|\n",
      "|   2064|4.392857142857143|\n",
      "|    913|4.387096774193548|\n",
      "|   7502|4.386363636363637|\n",
      "|   1221|4.385185185185185|\n",
      "|    905|             4.38|\n",
      "|     50|4.370646766169155|\n",
      "+-------+-----------------+\n",
      "only showing top 20 rows\n",
      "\n"
     ]
    }
   ],
   "source": [
    "avgRatings_sorted.show()"
   ],
   "metadata": {
    "collapsed": false,
    "pycharm": {
     "name": "#%%\n"
    }
   }
  },
  {
   "cell_type": "code",
   "execution_count": 108,
   "outputs": [],
   "source": [
    "top_20 = avgRatings_sorted.take(20)"
   ],
   "metadata": {
    "collapsed": false,
    "pycharm": {
     "name": "#%%\n"
    }
   }
  },
  {
   "cell_type": "code",
   "execution_count": 109,
   "outputs": [
    {
     "data": {
      "text/plain": "[Row(movieId=1939, AvgRating=4.636363636363637),\n Row(movieId=3469, AvgRating=4.541666666666667),\n Row(movieId=858, AvgRating=4.4875),\n Row(movieId=318, AvgRating=4.487138263665595),\n Row(movieId=1948, AvgRating=4.458333333333333),\n Row(movieId=8132, AvgRating=4.454545454545454),\n Row(movieId=1945, AvgRating=4.448275862068965),\n Row(movieId=1147, AvgRating=4.4375),\n Row(movieId=926, AvgRating=4.434210526315789),\n Row(movieId=1217, AvgRating=4.423076923076923),\n Row(movieId=969, AvgRating=4.42),\n Row(movieId=3035, AvgRating=4.411764705882353),\n Row(movieId=1066, AvgRating=4.409090909090909),\n Row(movieId=2203, AvgRating=4.4),\n Row(movieId=2064, AvgRating=4.392857142857143),\n Row(movieId=913, AvgRating=4.387096774193548),\n Row(movieId=7502, AvgRating=4.386363636363637),\n Row(movieId=1221, AvgRating=4.385185185185185),\n Row(movieId=905, AvgRating=4.38),\n Row(movieId=50, AvgRating=4.370646766169155)]"
     },
     "execution_count": 109,
     "metadata": {},
     "output_type": "execute_result"
    }
   ],
   "source": [
    "top_20"
   ],
   "metadata": {
    "collapsed": false,
    "pycharm": {
     "name": "#%%\n"
    }
   }
  },
  {
   "cell_type": "code",
   "execution_count": 110,
   "outputs": [],
   "source": [
    "top_20_df = spark.createDataFrame(top_20)"
   ],
   "metadata": {
    "collapsed": false,
    "pycharm": {
     "name": "#%%\n"
    }
   }
  },
  {
   "cell_type": "code",
   "execution_count": 111,
   "outputs": [
    {
     "name": "stdout",
     "output_type": "stream",
     "text": [
      "+-------+-----------------+\n",
      "|movieId|        AvgRating|\n",
      "+-------+-----------------+\n",
      "|   1939|4.636363636363637|\n",
      "|   3469|4.541666666666667|\n",
      "|    858|           4.4875|\n",
      "|    318|4.487138263665595|\n",
      "|   1948|4.458333333333333|\n",
      "|   8132|4.454545454545454|\n",
      "|   1945|4.448275862068965|\n",
      "|   1147|           4.4375|\n",
      "|    926|4.434210526315789|\n",
      "|   1217|4.423076923076923|\n",
      "|    969|             4.42|\n",
      "|   3035|4.411764705882353|\n",
      "|   1066|4.409090909090909|\n",
      "|   2203|              4.4|\n",
      "|   2064|4.392857142857143|\n",
      "|    913|4.387096774193548|\n",
      "|   7502|4.386363636363637|\n",
      "|   1221|4.385185185185185|\n",
      "|    905|             4.38|\n",
      "|     50|4.370646766169155|\n",
      "+-------+-----------------+\n",
      "\n"
     ]
    }
   ],
   "source": [
    "top_20_df.show()"
   ],
   "metadata": {
    "collapsed": false,
    "pycharm": {
     "name": "#%%\n"
    }
   }
  },
  {
   "cell_type": "markdown",
   "source": [
    "## Finding top20 movies"
   ],
   "metadata": {
    "collapsed": false
   }
  },
  {
   "cell_type": "code",
   "execution_count": 112,
   "outputs": [],
   "source": [
    "result = top_20_df.join(movies,\"movieId\")"
   ],
   "metadata": {
    "collapsed": false,
    "pycharm": {
     "name": "#%%\n"
    }
   }
  },
  {
   "cell_type": "code",
   "execution_count": 115,
   "outputs": [
    {
     "name": "stdout",
     "output_type": "stream",
     "text": [
      "+-------+-----------------+--------------------+--------------------+\n",
      "|movieId|        AvgRating|               title|              genres|\n",
      "+-------+-----------------+--------------------+--------------------+\n",
      "|   1939|4.636363636363637|Best Years of Our...|           Drama|War|\n",
      "|   3469|4.541666666666667|Inherit the Wind ...|               Drama|\n",
      "|    858|           4.4875|Godfather, The (1...|         Crime|Drama|\n",
      "|    318|4.487138263665595|Shawshank Redempt...|         Crime|Drama|\n",
      "|   1948|4.458333333333333|    Tom Jones (1963)|Adventure|Comedy|...|\n",
      "|   8132|4.454545454545454|    Gladiator (1992)|        Action|Drama|\n",
      "|   1945|4.448275862068965|On the Waterfront...|         Crime|Drama|\n",
      "|   1147|           4.4375|When We Were King...|         Documentary|\n",
      "|    926|4.434210526315789|All About Eve (1950)|               Drama|\n",
      "|   1217|4.423076923076923|          Ran (1985)|           Drama|War|\n",
      "|    969|             4.42|African Queen, Th...|Adventure|Comedy|...|\n",
      "|   3035|4.411764705882353|Mister Roberts (1...|    Comedy|Drama|War|\n",
      "|   1066|4.409090909090909|Shall We Dance (1...|Comedy|Musical|Ro...|\n",
      "|   2203|              4.4|Shadow of a Doubt...|Crime|Drama|Thriller|\n",
      "|   2064|4.392857142857143|   Roger & Me (1989)|         Documentary|\n",
      "|    913|4.387096774193548|Maltese Falcon, T...|   Film-Noir|Mystery|\n",
      "|   7502|4.386363636363637|Band of Brothers ...|    Action|Drama|War|\n",
      "|   1221|4.385185185185185|Godfather: Part I...|         Crime|Drama|\n",
      "|    905|             4.38|It Happened One N...|      Comedy|Romance|\n",
      "|     50|4.370646766169155|Usual Suspects, T...|Crime|Mystery|Thr...|\n",
      "+-------+-----------------+--------------------+--------------------+\n",
      "\n"
     ]
    }
   ],
   "source": [
    "result.show()"
   ],
   "metadata": {
    "collapsed": false,
    "pycharm": {
     "name": "#%%\n"
    }
   }
  },
  {
   "cell_type": "code",
   "execution_count": 120,
   "outputs": [],
   "source": [
    "final_result = result.join(reviewCountsGRE10, \"movieId\")"
   ],
   "metadata": {
    "collapsed": false,
    "pycharm": {
     "name": "#%%\n"
    }
   }
  },
  {
   "cell_type": "markdown",
   "source": [
    "### Format according to requirements"
   ],
   "metadata": {
    "collapsed": false
   }
  },
  {
   "cell_type": "code",
   "execution_count": 127,
   "outputs": [],
   "source": [
    "final_result = final_result.select(\n",
    "    final_result[\"movieId\"],\n",
    "    final_result[\"title\"].alias(\"Movie Name\"),\n",
    "    format_number(final_result[\"AvgRating\"].cast(\"float\"), 2).alias(\"Average Rating\"),\n",
    "    final_result[\"reviewCounts\"].alias(\"Total number of ratings\")\n",
    ")"
   ],
   "metadata": {
    "collapsed": false,
    "pycharm": {
     "name": "#%%\n"
    }
   }
  },
  {
   "cell_type": "code",
   "execution_count": 128,
   "outputs": [
    {
     "name": "stdout",
     "output_type": "stream",
     "text": [
      "+-------+-----------------------------------+--------------+-----------------------+\n",
      "|movieId|Movie Name                         |Average Rating|Total number of ratings|\n",
      "+-------+-----------------------------------+--------------+-----------------------+\n",
      "|1939   |Best Years of Our Lives, The (1946)|4.64          |11                     |\n",
      "|3469   |Inherit the Wind (1960)            |4.54          |12                     |\n",
      "|858    |Godfather, The (1972)              |4.49          |200                    |\n",
      "|318    |Shawshank Redemption, The (1994)   |4.49          |311                    |\n",
      "|1948   |Tom Jones (1963)                   |4.46          |12                     |\n",
      "|8132   |Gladiator (1992)                   |4.45          |11                     |\n",
      "|1945   |On the Waterfront (1954)           |4.45          |29                     |\n",
      "|1147   |When We Were Kings (1996)          |4.44          |16                     |\n",
      "|926    |All About Eve (1950)               |4.43          |38                     |\n",
      "|1217   |Ran (1985)                         |4.42          |26                     |\n",
      "|969    |African Queen, The (1951)          |4.42          |50                     |\n",
      "|3035   |Mister Roberts (1955)              |4.41          |17                     |\n",
      "|1066   |Shall We Dance (1937)              |4.41          |11                     |\n",
      "|2203   |Shadow of a Doubt (1943)           |4.40          |10                     |\n",
      "|2064   |Roger & Me (1989)                  |4.39          |42                     |\n",
      "|913    |Maltese Falcon, The (1941)         |4.39          |62                     |\n",
      "|7502   |Band of Brothers (2001)            |4.39          |22                     |\n",
      "|1221   |Godfather: Part II, The (1974)     |4.39          |135                    |\n",
      "|905    |It Happened One Night (1934)       |4.38          |25                     |\n",
      "|50     |Usual Suspects, The (1995)         |4.37          |201                    |\n",
      "+-------+-----------------------------------+--------------+-----------------------+\n",
      "\n"
     ]
    }
   ],
   "source": [
    "final_result.show(truncate=False)"
   ],
   "metadata": {
    "collapsed": false,
    "pycharm": {
     "name": "#%%\n"
    }
   }
  },
  {
   "cell_type": "markdown",
   "source": [
    "#### Ending Session"
   ],
   "metadata": {
    "collapsed": false
   }
  },
  {
   "cell_type": "code",
   "execution_count": 131,
   "outputs": [],
   "source": [
    "spark.stop()"
   ],
   "metadata": {
    "collapsed": false,
    "pycharm": {
     "name": "#%%\n"
    }
   }
  },
  {
   "cell_type": "code",
   "execution_count": null,
   "outputs": [],
   "source": [],
   "metadata": {
    "collapsed": false,
    "pycharm": {
     "name": "#%%\n"
    }
   }
  }
 ],
 "metadata": {
  "kernelspec": {
   "display_name": "Python 3",
   "language": "python",
   "name": "python3"
  },
  "language_info": {
   "codemirror_mode": {
    "name": "ipython",
    "version": 2
   },
   "file_extension": ".py",
   "mimetype": "text/x-python",
   "name": "python",
   "nbconvert_exporter": "python",
   "pygments_lexer": "ipython2",
   "version": "2.7.6"
  }
 },
 "nbformat": 4,
 "nbformat_minor": 0
}