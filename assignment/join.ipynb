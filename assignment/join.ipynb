{
 "cells": [
  {
   "cell_type": "raw",
   "source": [
    "#### Importing Libraries"
   ],
   "metadata": {
    "collapsed": false,
    "pycharm": {
     "name": "#%% raw\n"
    }
   }
  },
  {
   "cell_type": "code",
   "metadata": {
    "collapsed": true,
    "pycharm": {
     "name": "#%%\n"
    }
   },
   "source": [
    "from pyspark.sql import SparkSession\n",
    "from pyspark.sql.functions import format_number"
   ],
   "execution_count": null,
   "outputs": []
  },
  {
   "cell_type": "raw",
   "source": [
    "#### Creating SparkSession"
   ],
   "metadata": {
    "collapsed": false,
    "pycharm": {
     "name": "#%% raw\n"
    }
   }
  },
  {
   "cell_type": "code",
   "execution_count": null,
   "outputs": [],
   "source": [
    "spark = SparkSession.builder.appName(\"JoinTables\").master('local[*]').getOrCreate()"
   ],
   "metadata": {
    "collapsed": false,
    "pycharm": {
     "name": "#%%\n"
    }
   }
  },
  {
   "cell_type": "markdown",
   "source": [
    "#### Importing Datasets"
   ],
   "metadata": {
    "collapsed": false
   }
  },
  {
   "cell_type": "code",
   "execution_count": 23,
   "outputs": [],
   "source": [
    "stocks = spark.read.csv(\"stocks_HadoopUC.txt\", inferSchema=True, header=True, sep='\\t')"
   ],
   "metadata": {
    "collapsed": false,
    "pycharm": {
     "name": "#%%\n"
    }
   }
  },
  {
   "cell_type": "code",
   "execution_count": 24,
   "outputs": [
    {
     "name": "stdout",
     "output_type": "stream",
     "text": [
      "+--------+------+----------+-----+-----+-----+-----+-------+--------+----+\n",
      "|Exchange|Symbol|      Data| Open| High|  Low|Close| Volumn|AdjClose| _c9|\n",
      "+--------+------+----------+-----+-----+-----+-----+-------+--------+----+\n",
      "|    LNSE|   CLI|2009-12-31|35.39| 35.7| 34.5|34.57| 890100|   34.12|null|\n",
      "|    LNSE|   CLI|2009-12-30|35.22|35.46|34.96| 35.4| 516900|   34.94|null|\n",
      "|    NYSE|   CLI|2009-12-29|35.69|35.95|35.21|35.34| 556500|   34.88|null|\n",
      "|    NYSE|   CLI|2009-12-28|35.67|36.23|35.49|35.69| 565000|   35.23|null|\n",
      "|    NYSE|   CLI|2009-12-24|35.38| 35.6|35.19|35.47| 230200|   35.01|null|\n",
      "|    NYSE|   CLI|2009-12-23|35.13|35.51|35.07|35.21| 520200|   34.75|null|\n",
      "|    NYSE|   CLI|2009-12-22|34.76|35.04|34.71|35.04| 564600|   34.58|null|\n",
      "|    NYSE|   CLI|2009-12-21|34.65|34.74|34.41|34.73| 428400|   34.28|null|\n",
      "|    NYSE|   CLI|2009-12-18|34.11|34.38|33.73|34.22|1152600|   33.77|null|\n",
      "|    NYSE|   CLI|2009-12-17|34.18|34.53|33.84|34.21|1082600|   33.76|null|\n",
      "|    NYSE|   CLI|2009-12-16|34.79| 35.1|34.48|34.66|1007900|   34.21|null|\n",
      "|    NYSE|   CLI|2009-12-15| 34.6|34.91|34.39|34.84| 813200|   34.39|null|\n",
      "|    NYSE|   CLI|2009-12-14|34.21| 34.9|33.86|34.82| 987700|   34.37|null|\n",
      "|    NYSE|   CLI|2009-12-11|33.55|34.08| 33.4| 34.0| 836500|   33.56|null|\n",
      "|    NYSE|   CLI|2009-12-10|33.61| 33.8|33.09|33.26|1296300|   32.83|null|\n",
      "|    NYSE|   CLI|2009-12-09|33.25|33.71|33.01|33.25| 863900|   32.82|null|\n",
      "|    NYSE|   CLI|2009-12-08|32.57| 33.8|32.52|33.18| 890000|   32.75|null|\n",
      "|    NYSE|   CLI|2009-12-07|33.63|33.77|32.78| 33.0| 961800|   32.57|null|\n",
      "|    NYSE|   CLI|2009-12-04|33.46|34.12|33.16|33.69|1412400|   33.25|null|\n",
      "|    NYSE|   CLI|2009-12-03|32.55|33.43|32.48|32.65|1170600|   32.22|null|\n",
      "+--------+------+----------+-----+-----+-----+-----+-------+--------+----+\n",
      "only showing top 20 rows\n",
      "\n"
     ]
    }
   ],
   "source": [
    "stocks.show()"
   ],
   "metadata": {
    "collapsed": false,
    "pycharm": {
     "name": "#%%\n"
    }
   }
  },
  {
   "cell_type": "code",
   "execution_count": 25,
   "outputs": [],
   "source": [
    "dividends = spark.read.csv(\"dividends_HadoopUC.txt\", inferSchema=True, header=True, sep='\\t')"
   ],
   "metadata": {
    "collapsed": false,
    "pycharm": {
     "name": "#%%\n"
    }
   }
  },
  {
   "cell_type": "code",
   "execution_count": 26,
   "outputs": [
    {
     "name": "stdout",
     "output_type": "stream",
     "text": [
      "+--------+------+----------+--------+\n",
      "|Exchange|Symbol|      Data|Dividend|\n",
      "+--------+------+----------+--------+\n",
      "|    NYSE|   CPO|2009-12-30|    0.14|\n",
      "|    NYSE|   CPO|2009-09-28|    0.14|\n",
      "|    NYSE|   CPO|2009-06-26|    0.14|\n",
      "|    NYSE|   CPO|2009-03-27|    0.14|\n",
      "|    NYSE|   CPO|2009-01-06|    0.14|\n",
      "|    NYSE|   CCS|2009-10-28|   0.414|\n",
      "|    NYSE|   CCS|2009-07-29|   0.414|\n",
      "|    NYSE|   CCS|2009-04-29|   0.414|\n",
      "|    NYSE|   CCS|2009-01-28|   0.414|\n",
      "|    NYSE|   CIF|2009-12-09|   0.029|\n",
      "|    NYSE|   CIF|2009-11-10|   0.019|\n",
      "|    NYSE|   CIF|2009-10-13|   0.019|\n",
      "|    NYSE|   CIF|2009-09-10|   0.019|\n",
      "|    NYSE|   CIF|2009-08-10|    0.02|\n",
      "|    NYSE|   CIF|2009-07-13|    0.02|\n",
      "|    NYSE|   CIF|2009-06-10|    0.02|\n",
      "|    NYSE|   CIF|2009-05-11|   0.021|\n",
      "|    NYSE|   CIF|2009-04-13|   0.022|\n",
      "|    NYSE|   CIF|2009-03-09|   0.022|\n",
      "|    NYSE|   CIF|2009-02-09|   0.022|\n",
      "+--------+------+----------+--------+\n",
      "only showing top 20 rows\n",
      "\n"
     ]
    }
   ],
   "source": [
    "dividends.show()"
   ],
   "metadata": {
    "collapsed": false,
    "pycharm": {
     "name": "#%%\n"
    }
   }
  },
  {
   "cell_type": "markdown",
   "source": [
    "#### Join two RDDs"
   ],
   "metadata": {
    "collapsed": false
   }
  },
  {
   "cell_type": "code",
   "execution_count": 27,
   "outputs": [],
   "source": [
    "df = stocks.join(dividends,\"Symbol\")"
   ],
   "metadata": {
    "collapsed": false,
    "pycharm": {
     "name": "#%%\n"
    }
   }
  },
  {
   "cell_type": "markdown",
   "source": [
    "##### Remove repeated columns"
   ],
   "metadata": {
    "collapsed": false
   }
  },
  {
   "cell_type": "code",
   "execution_count": 28,
   "outputs": [],
   "source": [
    "repeated_columns = [c for c in stocks.columns if c in dividends.columns]\n",
    "\n",
    "for col in repeated_columns:\n",
    "    df = df.drop(dividends[col])"
   ],
   "metadata": {
    "collapsed": false,
    "pycharm": {
     "name": "#%%\n"
    }
   }
  },
  {
   "cell_type": "code",
   "execution_count": 29,
   "outputs": [
    {
     "name": "stdout",
     "output_type": "stream",
     "text": [
      "+------+--------+----------+-----+-----+-----+-----+------+--------+----+--------+\n",
      "|Symbol|Exchange|      Data| Open| High|  Low|Close|Volumn|AdjClose| _c9|Dividend|\n",
      "+------+--------+----------+-----+-----+-----+-----+------+--------+----+--------+\n",
      "|   CLI|    LNSE|2009-12-31|35.39| 35.7| 34.5|34.57|890100|   34.12|null|    0.64|\n",
      "|   CLI|    LNSE|2009-12-31|35.39| 35.7| 34.5|34.57|890100|   34.12|null|    0.45|\n",
      "|   CLI|    LNSE|2009-12-31|35.39| 35.7| 34.5|34.57|890100|   34.12|null|    0.45|\n",
      "|   CLI|    LNSE|2009-12-31|35.39| 35.7| 34.5|34.57|890100|   34.12|null|    0.45|\n",
      "|   CLI|    LNSE|2009-12-30|35.22|35.46|34.96| 35.4|516900|   34.94|null|    0.64|\n",
      "|   CLI|    LNSE|2009-12-30|35.22|35.46|34.96| 35.4|516900|   34.94|null|    0.45|\n",
      "|   CLI|    LNSE|2009-12-30|35.22|35.46|34.96| 35.4|516900|   34.94|null|    0.45|\n",
      "|   CLI|    LNSE|2009-12-30|35.22|35.46|34.96| 35.4|516900|   34.94|null|    0.45|\n",
      "|   CLI|    NYSE|2009-12-29|35.69|35.95|35.21|35.34|556500|   34.88|null|    0.64|\n",
      "|   CLI|    NYSE|2009-12-29|35.69|35.95|35.21|35.34|556500|   34.88|null|    0.45|\n",
      "|   CLI|    NYSE|2009-12-29|35.69|35.95|35.21|35.34|556500|   34.88|null|    0.45|\n",
      "|   CLI|    NYSE|2009-12-29|35.69|35.95|35.21|35.34|556500|   34.88|null|    0.45|\n",
      "|   CLI|    NYSE|2009-12-28|35.67|36.23|35.49|35.69|565000|   35.23|null|    0.64|\n",
      "|   CLI|    NYSE|2009-12-28|35.67|36.23|35.49|35.69|565000|   35.23|null|    0.45|\n",
      "|   CLI|    NYSE|2009-12-28|35.67|36.23|35.49|35.69|565000|   35.23|null|    0.45|\n",
      "|   CLI|    NYSE|2009-12-28|35.67|36.23|35.49|35.69|565000|   35.23|null|    0.45|\n",
      "|   CLI|    NYSE|2009-12-24|35.38| 35.6|35.19|35.47|230200|   35.01|null|    0.64|\n",
      "|   CLI|    NYSE|2009-12-24|35.38| 35.6|35.19|35.47|230200|   35.01|null|    0.45|\n",
      "|   CLI|    NYSE|2009-12-24|35.38| 35.6|35.19|35.47|230200|   35.01|null|    0.45|\n",
      "|   CLI|    NYSE|2009-12-24|35.38| 35.6|35.19|35.47|230200|   35.01|null|    0.45|\n",
      "+------+--------+----------+-----+-----+-----+-----+------+--------+----+--------+\n",
      "only showing top 20 rows\n",
      "\n"
     ]
    }
   ],
   "source": [
    "df.show()"
   ],
   "metadata": {
    "collapsed": false,
    "pycharm": {
     "name": "#%%\n"
    }
   }
  },
  {
   "cell_type": "markdown",
   "source": [
    "#### Selecting required columns"
   ],
   "metadata": {
    "collapsed": false
   }
  },
  {
   "cell_type": "code",
   "execution_count": 30,
   "outputs": [],
   "source": [
    "final = df.select(\"Exchange\" , \"Symbol\", \"Dividend\", \"Close\", \"Volumn\")"
   ],
   "metadata": {
    "collapsed": false,
    "pycharm": {
     "name": "#%%\n"
    }
   }
  },
  {
   "cell_type": "code",
   "execution_count": 31,
   "outputs": [
    {
     "name": "stdout",
     "output_type": "stream",
     "text": [
      "+--------+------+--------+-----+------+\n",
      "|Exchange|Symbol|Dividend|Close|Volumn|\n",
      "+--------+------+--------+-----+------+\n",
      "|    LNSE|   CLI|    0.64|34.57|890100|\n",
      "|    LNSE|   CLI|    0.45|34.57|890100|\n",
      "|    LNSE|   CLI|    0.45|34.57|890100|\n",
      "|    LNSE|   CLI|    0.45|34.57|890100|\n",
      "|    LNSE|   CLI|    0.64| 35.4|516900|\n",
      "|    LNSE|   CLI|    0.45| 35.4|516900|\n",
      "|    LNSE|   CLI|    0.45| 35.4|516900|\n",
      "|    LNSE|   CLI|    0.45| 35.4|516900|\n",
      "|    NYSE|   CLI|    0.64|35.34|556500|\n",
      "|    NYSE|   CLI|    0.45|35.34|556500|\n",
      "|    NYSE|   CLI|    0.45|35.34|556500|\n",
      "|    NYSE|   CLI|    0.45|35.34|556500|\n",
      "|    NYSE|   CLI|    0.64|35.69|565000|\n",
      "|    NYSE|   CLI|    0.45|35.69|565000|\n",
      "|    NYSE|   CLI|    0.45|35.69|565000|\n",
      "|    NYSE|   CLI|    0.45|35.69|565000|\n",
      "|    NYSE|   CLI|    0.64|35.47|230200|\n",
      "|    NYSE|   CLI|    0.45|35.47|230200|\n",
      "|    NYSE|   CLI|    0.45|35.47|230200|\n",
      "|    NYSE|   CLI|    0.45|35.47|230200|\n",
      "+--------+------+--------+-----+------+\n",
      "only showing top 20 rows\n",
      "\n"
     ]
    }
   ],
   "source": [
    "final.show()"
   ],
   "metadata": {
    "collapsed": false,
    "pycharm": {
     "name": "#%%\n"
    }
   }
  },
  {
   "cell_type": "markdown",
   "source": [
    "#### Aggregating and Formatting according to requisition"
   ],
   "metadata": {
    "collapsed": false
   }
  },
  {
   "cell_type": "code",
   "execution_count": 32,
   "outputs": [],
   "source": [
    "\n",
    "final_groupped = final.groupBy(\"Exchange\",\"Symbol\").avg(\"Dividend\",\"Close\", \"Volumn\")"
   ],
   "metadata": {
    "collapsed": false,
    "pycharm": {
     "name": "#%%\n"
    }
   }
  },
  {
   "cell_type": "code",
   "execution_count": 33,
   "outputs": [],
   "source": [
    "final_group = final_groupped.select(final_groupped[\"Exchange\"],\n",
    "                                    final_groupped[\"Symbol\"],\n",
    "                                    format_number(final_groupped[\"avg(Dividend)\"].cast('float'),3).alias(\"AverageDividend\"),\n",
    "                                    format_number(final_groupped[\"avg(Close)\"].cast('float'),3).alias(\"AverageClosingPrice\"),\n",
    "                                    format_number(final_groupped[\"avg(Volumn)\"].cast('float'),3).alias(\"AverageVolume\"))"
   ],
   "metadata": {
    "collapsed": false,
    "pycharm": {
     "name": "#%%\n"
    }
   }
  },
  {
   "cell_type": "code",
   "execution_count": 34,
   "outputs": [
    {
     "name": "stdout",
     "output_type": "stream",
     "text": [
      "+--------+------+---------------+-------------------+--------------+\n",
      "|Exchange|Symbol|AverageDividend|AverageClosingPrice| AverageVolume|\n",
      "+--------+------+---------------+-------------------+--------------+\n",
      "|    NYSE|   CWZ|          1.109|             17.655|     3,136.905|\n",
      "|    NYSE|   CBK|          0.060|              5.925|   234,022.531|\n",
      "|    NYSE|   CNX|          0.100|             37.358| 3,811,331.500|\n",
      "|    NYSE|   CLB|          0.287|             88.926|   288,011.469|\n",
      "|    NYSE|   CAG|          0.192|             19.259| 4,288,458.000|\n",
      "|    NYSE|   CRT|          0.157|             27.017|    25,298.809|\n",
      "|    NYSE|   COL|          0.240|             43.215| 1,305,699.250|\n",
      "|    NYSE|   CMI|          0.175|             36.819| 3,068,422.500|\n",
      "|    NYSE|  CATO|          0.165|             18.199|   276,529.750|\n",
      "|    NYSE|   CIM|          0.108|              3.545| 7,106,761.000|\n",
      "|    NYSE|   CRS|          0.180|             20.336|   650,623.000|\n",
      "|    NYSE|   CYT|          0.041|             24.977|   636,882.125|\n",
      "|    NYSE|   COP|          0.477|             45.437|13,411,102.000|\n",
      "|    NYSE|   CHH|          0.185|             28.557|   411,483.719|\n",
      "|    NYSE|   CDR|          0.101|              5.143|   319,951.969|\n",
      "|    NYSE|   CCE|          0.075|             17.039| 4,100,738.250|\n",
      "|    NYSE|   CBL|          0.145|              6.716| 3,102,602.500|\n",
      "|    NYSE|   CXE|          0.030|              4.183|    55,688.492|\n",
      "|    NYSE|   CCS|          0.414|             21.887|    50,357.938|\n",
      "|    NYSE|   CFR|          0.428|             47.301|   769,283.875|\n",
      "+--------+------+---------------+-------------------+--------------+\n",
      "only showing top 20 rows\n",
      "\n"
     ]
    }
   ],
   "source": [
    "final_group.show()"
   ],
   "metadata": {
    "collapsed": false,
    "pycharm": {
     "name": "#%%\n"
    }
   }
  },
  {
   "cell_type": "markdown",
   "source": [
    "#### Exporting data to csv"
   ],
   "metadata": {
    "collapsed": false
   }
  },
  {
   "cell_type": "code",
   "execution_count": 36,
   "outputs": [],
   "source": [
    "df_panda = final_group.toPandas()"
   ],
   "metadata": {
    "collapsed": false,
    "pycharm": {
     "name": "#%%\n"
    }
   }
  },
  {
   "cell_type": "code",
   "execution_count": 37,
   "outputs": [],
   "source": [
    "df_panda.to_csv(\"stocks-dividends.csv\", index=False)"
   ],
   "metadata": {
    "collapsed": false,
    "pycharm": {
     "name": "#%%\n"
    }
   }
  },
  {
   "cell_type": "code",
   "execution_count": null,
   "outputs": [],
   "source": [],
   "metadata": {
    "collapsed": false,
    "pycharm": {
     "name": "#%%\n"
    }
   }
  }
 ],
 "metadata": {
  "kernelspec": {
   "display_name": "Python 3",
   "language": "python",
   "name": "python3"
  },
  "language_info": {
   "codemirror_mode": {
    "name": "ipython",
    "version": 2
   },
   "file_extension": ".py",
   "mimetype": "text/x-python",
   "name": "python",
   "nbconvert_exporter": "python",
   "pygments_lexer": "ipython2",
   "version": "2.7.6"
  }
 },
 "nbformat": 4,
 "nbformat_minor": 0
}